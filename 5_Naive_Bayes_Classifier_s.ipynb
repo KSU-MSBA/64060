{
  "nbformat": 4,
  "nbformat_minor": 0,
  "metadata": {
    "kernelspec": {
      "display_name": "Python 3",
      "language": "python",
      "name": "python3"
    },
    "language_info": {
      "codemirror_mode": {
        "name": "ipython",
        "version": 3
      },
      "file_extension": ".py",
      "mimetype": "text/x-python",
      "name": "python",
      "nbconvert_exporter": "python",
      "pygments_lexer": "ipython3",
      "version": "3.7.1"
    },
    "colab": {
      "name": "5-Naive Bayes Classifier_s.ipynb",
      "provenance": [],
      "include_colab_link": true
    }
  },
  "cells": [
    {
      "cell_type": "markdown",
      "metadata": {
        "id": "view-in-github",
        "colab_type": "text"
      },
      "source": [
        "<a href=\"https://colab.research.google.com/github/KSU-MSBA/64060/blob/master/5_Naive_Bayes_Classifier_s.ipynb\" target=\"_parent\"><img src=\"https://colab.research.google.com/assets/colab-badge.svg\" alt=\"Open In Colab\"/></a>"
      ]
    },
    {
      "cell_type": "markdown",
      "metadata": {
        "id": "SFpoH8usL5T_"
      },
      "source": [
        "# Chapter 8: The Naive Bayes Classifier\n",
        "\n",
        "\n",
        "\n",
        "## Import required packages"
      ]
    },
    {
      "cell_type": "markdown",
      "metadata": {
        "id": "Lo5J8UY_ga2c"
      },
      "source": [
        ""
      ]
    },
    {
      "cell_type": "code",
      "metadata": {
        "id": "GZUe8DruL5UE",
        "outputId": "589b266e-d188-4a96-d617-c021fda56e02",
        "colab": {
          "base_uri": "https://localhost:8080/",
          "height": 34
        }
      },
      "source": [
        "%matplotlib inline\n",
        "\n",
        "from pathlib import Path\n",
        "\n",
        "import pandas as pd\n",
        "from sklearn.model_selection import train_test_split\n",
        "from sklearn.naive_bayes import MultinomialNB\n",
        "import matplotlib.pylab as plt\n",
        "!pip install dmba\n",
        "from dmba import classificationSummary, gainsChart\n"
      ],
      "execution_count": null,
      "outputs": [
        {
          "output_type": "stream",
          "text": [
            "Requirement already satisfied: dmba in /usr/local/lib/python3.6/dist-packages (0.0.13)\n"
          ],
          "name": "stdout"
        }
      ]
    },
    {
      "cell_type": "markdown",
      "metadata": {
        "id": "NJZ8gYrts5C2"
      },
      "source": [
        "# [Class Example](https://docs.google.com/document/d/14Hc590QuqmB6F9KcwPX_xndHGdiW_HPyOLlFMhCOvkc/edit?usp=sharing)"
      ]
    },
    {
      "cell_type": "code",
      "metadata": {
        "id": "KOTuN4nJtJaQ",
        "outputId": "d8324ced-d107-4c61-a200-48e733f4c136",
        "colab": {
          "base_uri": "https://localhost:8080/",
          "height": 206
        }
      },
      "source": [
        "class_df = pd.read_csv('https://raw.githubusercontent.com/KSU-MSBA/64060/master/Infection_Rates.csv')\n",
        "class_df.head()"
      ],
      "execution_count": null,
      "outputs": [
        {
          "output_type": "execute_result",
          "data": {
            "text/html": [
              "<div>\n",
              "<style scoped>\n",
              "    .dataframe tbody tr th:only-of-type {\n",
              "        vertical-align: middle;\n",
              "    }\n",
              "\n",
              "    .dataframe tbody tr th {\n",
              "        vertical-align: top;\n",
              "    }\n",
              "\n",
              "    .dataframe thead th {\n",
              "        text-align: right;\n",
              "    }\n",
              "</style>\n",
              "<table border=\"1\" class=\"dataframe\">\n",
              "  <thead>\n",
              "    <tr style=\"text-align: right;\">\n",
              "      <th></th>\n",
              "      <th>Test</th>\n",
              "      <th>Age_Group</th>\n",
              "      <th>Status</th>\n",
              "    </tr>\n",
              "  </thead>\n",
              "  <tbody>\n",
              "    <tr>\n",
              "      <th>0</th>\n",
              "      <td>Positive</td>\n",
              "      <td>Young</td>\n",
              "      <td>Infected</td>\n",
              "    </tr>\n",
              "    <tr>\n",
              "      <th>1</th>\n",
              "      <td>Positive</td>\n",
              "      <td>Young</td>\n",
              "      <td>Infected</td>\n",
              "    </tr>\n",
              "    <tr>\n",
              "      <th>2</th>\n",
              "      <td>Positive</td>\n",
              "      <td>Young</td>\n",
              "      <td>Infected</td>\n",
              "    </tr>\n",
              "    <tr>\n",
              "      <th>3</th>\n",
              "      <td>Positive</td>\n",
              "      <td>Old</td>\n",
              "      <td>Infected</td>\n",
              "    </tr>\n",
              "    <tr>\n",
              "      <th>4</th>\n",
              "      <td>Positive</td>\n",
              "      <td>Old</td>\n",
              "      <td>Infected</td>\n",
              "    </tr>\n",
              "  </tbody>\n",
              "</table>\n",
              "</div>"
            ],
            "text/plain": [
              "       Test Age_Group    Status\n",
              "0  Positive     Young  Infected\n",
              "1  Positive     Young  Infected\n",
              "2  Positive     Young  Infected\n",
              "3  Positive       Old  Infected\n",
              "4  Positive       Old  Infected"
            ]
          },
          "metadata": {
            "tags": []
          },
          "execution_count": 5
        }
      ]
    },
    {
      "cell_type": "code",
      "metadata": {
        "id": "JjUi-cjI2hjq",
        "outputId": "30b79a8d-faad-4644-8835-c8d4dae636cf",
        "colab": {
          "base_uri": "https://localhost:8080/",
          "height": 315
        }
      },
      "source": [
        "class_df.describe()\n",
        "predictors = ['Test','Age_Group']\n",
        "outcome = ['Status']\n",
        "\n",
        "X = pd.get_dummies(class_df[predictors])\n",
        "y = (class_df[outcome] == 'Infected').astype(int)\n",
        "classes = ['Not Infected', 'Infected']\n",
        "\n",
        "# split into training and validation\n",
        "X_train, X_Valid, y_train, y_valid = train_test_split(X, y, test_size = .4, random_state = 123)\n",
        "\n",
        "\n",
        "# Run Naive Bayes\n",
        "class_nb = MultinomialNB(alpha=0.01)\n",
        "class_nb.fit(X_train, y_train)\n",
        "\n",
        "# predict probabilities\n",
        "predProb_train = class_nb.predict_proba(X_train)\n",
        "predProb_valid = class_nb.predict_proba(X_Valid)\n",
        "\n",
        "\n",
        "# predict class membership\n",
        "y_train_pred = class_nb.predict(X_train)\n",
        "y_valid_pred = class_nb.predict(X_Valid)\n",
        "\n",
        "classificationSummary(y_train, y_train_pred, class_names=classes) \n",
        "\n",
        "print(\"\\nValidation Set\")\n",
        "\n",
        "classificationSummary(y_valid, y_valid_pred, class_names=classes) \n"
      ],
      "execution_count": null,
      "outputs": [
        {
          "output_type": "stream",
          "text": [
            "Confusion Matrix (Accuracy 0.5833)\n",
            "\n",
            "             Prediction\n",
            "      Actual Not Infected     Infected\n",
            "Not Infected            1            4\n",
            "    Infected            1            6\n",
            "\n",
            "Validation Set\n",
            "Confusion Matrix (Accuracy 0.2500)\n",
            "\n",
            "             Prediction\n",
            "      Actual Not Infected     Infected\n",
            "Not Infected            2            2\n",
            "    Infected            4            0\n"
          ],
          "name": "stdout"
        },
        {
          "output_type": "stream",
          "text": [
            "/usr/local/lib/python3.6/dist-packages/sklearn/utils/validation.py:760: DataConversionWarning: A column-vector y was passed when a 1d array was expected. Please change the shape of y to (n_samples, ), for example using ravel().\n",
            "  y = column_or_1d(y, warn=True)\n"
          ],
          "name": "stderr"
        }
      ]
    }
  ]
}