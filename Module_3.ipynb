{
  "nbformat": 4,
  "nbformat_minor": 0,
  "metadata": {
    "kernelspec": {
      "display_name": "Python 3",
      "language": "python",
      "name": "python3"
    },
    "language_info": {
      "codemirror_mode": {
        "name": "ipython",
        "version": 3
      },
      "file_extension": ".py",
      "mimetype": "text/x-python",
      "name": "python",
      "nbconvert_exporter": "python",
      "pygments_lexer": "ipython3",
      "version": "3.7.1"
    },
    "colab": {
      "name": "Module 3.ipynb",
      "provenance": [],
      "include_colab_link": true
    }
  },
  "cells": [
    {
      "cell_type": "markdown",
      "metadata": {
        "id": "view-in-github",
        "colab_type": "text"
      },
      "source": [
        "<a href=\"https://colab.research.google.com/github/KSU-MSBA/64060/blob/master/Module_3.ipynb\" target=\"_parent\"><img src=\"https://colab.research.google.com/assets/colab-badge.svg\" alt=\"Open In Colab\"/></a>"
      ]
    },
    {
      "cell_type": "markdown",
      "metadata": {
        "id": "YMQq9k6iJxPy"
      },
      "source": [
        "# Module 3 - Supervised Learning Modules\n",
        "\n",
        "> Adapted from Chapter 2: Overview of the Data Mining Process\n",
        "> \n",
        "> Code included in\n",
        ">\n",
        "> _Data Mining for Business Analytics: Concepts, Techniques, and Applications in Python_ (First Edition) \n",
        "> Galit Shmueli, Peter C. Bruce, Peter Gedeck, and Nitin R. Patel. 2019.\n",
        "\n",
        "## Import required packages\n",
        "We use the pandas, the Python data anlysis library, for handling data. The API of this library is very similar to R data frames. See https://pandas.pydata.org/ for details."
      ]
    },
    {
      "cell_type": "code",
      "metadata": {
        "id": "7UWfB15GJxP0"
      },
      "source": [
        "%matplotlib inline\n",
        "from pathlib import Path\n",
        "import numpy as np\n",
        "import pandas as pd\n",
        "from sklearn.model_selection import train_test_split\n",
        "from sklearn.metrics import r2_score\n",
        "from sklearn.linear_model import LinearRegression\n",
        "import os\n",
        "\n",
        "import matplotlib.pylab as plt"
      ],
      "execution_count": null,
      "outputs": []
    },
    {
      "cell_type": "markdown",
      "metadata": {
        "id": "Eweq4N9aJxP7"
      },
      "source": [
        "Note that we import some of the packages using an alias notation, to make the code more readable.\n",
        "```\n",
        "import <package> as <alias>\n",
        "```\n",
        "The aliases `np`, `pd`, and `plt` are commonly used in the data science community.\n",
        "\n",
        "The following statement uploads the data file into google colab"
      ]
    },
    {
      "cell_type": "code",
      "metadata": {
        "id": "HDxg4OGTJxP8",
        "outputId": "7728e043-2729-4435-a8ef-3df239647fe8",
        "colab": {
          "resources": {
            "http://localhost:8080/nbextensions/google.colab/files.js": {
              "data": "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",
              "ok": true,
              "headers": [
                [
                  "content-type",
                  "application/javascript"
                ]
              ],
              "status": 200,
              "status_text": ""
            }
          },
          "base_uri": "https://localhost:8080/",
          "height": 73
        }
      },
      "source": [
        "from google.colab import files\n",
        "uploaded = files.upload()"
      ],
      "execution_count": null,
      "outputs": [
        {
          "output_type": "display_data",
          "data": {
            "text/html": [
              "\n",
              "     <input type=\"file\" id=\"files-9aa4698a-e3b4-4e83-818a-0b0025e44efb\" name=\"files[]\" multiple disabled\n",
              "        style=\"border:none\" />\n",
              "     <output id=\"result-9aa4698a-e3b4-4e83-818a-0b0025e44efb\">\n",
              "      Upload widget is only available when the cell has been executed in the\n",
              "      current browser session. Please rerun this cell to enable.\n",
              "      </output>\n",
              "      <script src=\"/nbextensions/google.colab/files.js\"></script> "
            ],
            "text/plain": [
              "<IPython.core.display.HTML object>"
            ]
          },
          "metadata": {
            "tags": []
          }
        },
        {
          "output_type": "stream",
          "text": [
            "Saving WestRoxbury.csv to WestRoxbury.csv\n"
          ],
          "name": "stdout"
        }
      ]
    },
    {
      "cell_type": "markdown",
      "metadata": {
        "id": "_ZI4_OcCJxQA"
      },
      "source": [
        "## Table 2.3 \n",
        "Load the West Roxbury data set"
      ]
    },
    {
      "cell_type": "code",
      "metadata": {
        "id": "nja-FPBzJxQB",
        "outputId": "62065055-c6fc-4f20-c4e1-1cbb07dfd00e",
        "colab": {
          "base_uri": "https://localhost:8080/",
          "height": 34
        }
      },
      "source": [
        "housing_df = pd.read_csv('WestRoxbury.csv')\n",
        "type(housing_df)"
      ],
      "execution_count": null,
      "outputs": [
        {
          "output_type": "execute_result",
          "data": {
            "text/plain": [
              "pandas.core.frame.DataFrame"
            ]
          },
          "metadata": {
            "tags": []
          },
          "execution_count": 3
        }
      ]
    },
    {
      "cell_type": "markdown",
      "metadata": {
        "id": "ApJUiQ4iJxQF"
      },
      "source": [
        "Determine the shape of the data frame. It has 5802 rows and 14 columns"
      ]
    },
    {
      "cell_type": "code",
      "metadata": {
        "id": "o6dAmsWvJxQG",
        "outputId": "3df93325-2945-4af2-91a8-c9cea7d965c0",
        "colab": {
          "base_uri": "https://localhost:8080/",
          "height": 34
        }
      },
      "source": [
        "housing_df.shape"
      ],
      "execution_count": null,
      "outputs": [
        {
          "output_type": "execute_result",
          "data": {
            "text/plain": [
              "(5802, 14)"
            ]
          },
          "metadata": {
            "tags": []
          },
          "execution_count": 20
        }
      ]
    },
    {
      "cell_type": "code",
      "metadata": {
        "id": "95GsAGVwRZ8C",
        "outputId": "81dd8627-6064-4013-8a86-6b1d24bda2d5",
        "colab": {
          "base_uri": "https://localhost:8080/",
          "height": 277
        }
      },
      "source": [
        "# Class of each column in the dataframe\n",
        "housing_df.dtypes"
      ],
      "execution_count": null,
      "outputs": [
        {
          "output_type": "execute_result",
          "data": {
            "text/plain": [
              "TOTAL VALUE     float64\n",
              "TAX               int64\n",
              "LOT SQFT          int64\n",
              "YR BUILT          int64\n",
              "GROSS AREA        int64\n",
              "LIVING AREA       int64\n",
              "FLOORS          float64\n",
              "ROOMS             int64\n",
              "BEDROOMS          int64\n",
              "FULL BATH         int64\n",
              "HALF BATH         int64\n",
              "KITCHEN           int64\n",
              "FIREPLACE         int64\n",
              "REMODEL          object\n",
              "dtype: object"
            ]
          },
          "metadata": {
            "tags": []
          },
          "execution_count": 22
        }
      ]
    },
    {
      "cell_type": "markdown",
      "metadata": {
        "id": "_PYvEmMfJxQL"
      },
      "source": [
        "Show the top rows of the dataframe"
      ]
    },
    {
      "cell_type": "code",
      "metadata": {
        "id": "HhUJkZRVJxQL",
        "outputId": "98c2b546-49b0-4791-c903-b279158cbef4",
        "colab": {
          "base_uri": "https://localhost:8080/",
          "height": 202
        }
      },
      "source": [
        "housing_df.head()"
      ],
      "execution_count": null,
      "outputs": [
        {
          "output_type": "execute_result",
          "data": {
            "text/html": [
              "<div>\n",
              "<style scoped>\n",
              "    .dataframe tbody tr th:only-of-type {\n",
              "        vertical-align: middle;\n",
              "    }\n",
              "\n",
              "    .dataframe tbody tr th {\n",
              "        vertical-align: top;\n",
              "    }\n",
              "\n",
              "    .dataframe thead th {\n",
              "        text-align: right;\n",
              "    }\n",
              "</style>\n",
              "<table border=\"1\" class=\"dataframe\">\n",
              "  <thead>\n",
              "    <tr style=\"text-align: right;\">\n",
              "      <th></th>\n",
              "      <th>TOTAL VALUE</th>\n",
              "      <th>TAX</th>\n",
              "      <th>LOT SQFT</th>\n",
              "      <th>YR BUILT</th>\n",
              "      <th>GROSS AREA</th>\n",
              "      <th>LIVING AREA</th>\n",
              "      <th>FLOORS</th>\n",
              "      <th>ROOMS</th>\n",
              "      <th>BEDROOMS</th>\n",
              "      <th>FULL BATH</th>\n",
              "      <th>HALF BATH</th>\n",
              "      <th>KITCHEN</th>\n",
              "      <th>FIREPLACE</th>\n",
              "      <th>REMODEL</th>\n",
              "    </tr>\n",
              "  </thead>\n",
              "  <tbody>\n",
              "    <tr>\n",
              "      <th>0</th>\n",
              "      <td>344.2</td>\n",
              "      <td>4330</td>\n",
              "      <td>9965</td>\n",
              "      <td>1880</td>\n",
              "      <td>2436</td>\n",
              "      <td>1352</td>\n",
              "      <td>2.0</td>\n",
              "      <td>6</td>\n",
              "      <td>3</td>\n",
              "      <td>1</td>\n",
              "      <td>1</td>\n",
              "      <td>1</td>\n",
              "      <td>0</td>\n",
              "      <td>None</td>\n",
              "    </tr>\n",
              "    <tr>\n",
              "      <th>1</th>\n",
              "      <td>412.6</td>\n",
              "      <td>5190</td>\n",
              "      <td>6590</td>\n",
              "      <td>1945</td>\n",
              "      <td>3108</td>\n",
              "      <td>1976</td>\n",
              "      <td>2.0</td>\n",
              "      <td>10</td>\n",
              "      <td>4</td>\n",
              "      <td>2</td>\n",
              "      <td>1</td>\n",
              "      <td>1</td>\n",
              "      <td>0</td>\n",
              "      <td>Recent</td>\n",
              "    </tr>\n",
              "    <tr>\n",
              "      <th>2</th>\n",
              "      <td>330.1</td>\n",
              "      <td>4152</td>\n",
              "      <td>7500</td>\n",
              "      <td>1890</td>\n",
              "      <td>2294</td>\n",
              "      <td>1371</td>\n",
              "      <td>2.0</td>\n",
              "      <td>8</td>\n",
              "      <td>4</td>\n",
              "      <td>1</td>\n",
              "      <td>1</td>\n",
              "      <td>1</td>\n",
              "      <td>0</td>\n",
              "      <td>None</td>\n",
              "    </tr>\n",
              "    <tr>\n",
              "      <th>3</th>\n",
              "      <td>498.6</td>\n",
              "      <td>6272</td>\n",
              "      <td>13773</td>\n",
              "      <td>1957</td>\n",
              "      <td>5032</td>\n",
              "      <td>2608</td>\n",
              "      <td>1.0</td>\n",
              "      <td>9</td>\n",
              "      <td>5</td>\n",
              "      <td>1</td>\n",
              "      <td>1</td>\n",
              "      <td>1</td>\n",
              "      <td>1</td>\n",
              "      <td>None</td>\n",
              "    </tr>\n",
              "    <tr>\n",
              "      <th>4</th>\n",
              "      <td>331.5</td>\n",
              "      <td>4170</td>\n",
              "      <td>5000</td>\n",
              "      <td>1910</td>\n",
              "      <td>2370</td>\n",
              "      <td>1438</td>\n",
              "      <td>2.0</td>\n",
              "      <td>7</td>\n",
              "      <td>3</td>\n",
              "      <td>2</td>\n",
              "      <td>0</td>\n",
              "      <td>1</td>\n",
              "      <td>0</td>\n",
              "      <td>None</td>\n",
              "    </tr>\n",
              "  </tbody>\n",
              "</table>\n",
              "</div>"
            ],
            "text/plain": [
              "   TOTAL VALUE    TAX  LOT SQFT   ...  KITCHEN  FIREPLACE  REMODEL\n",
              "0         344.2  4330       9965  ...        1          0     None\n",
              "1         412.6  5190       6590  ...        1          0   Recent\n",
              "2         330.1  4152       7500  ...        1          0     None\n",
              "3         498.6  6272      13773  ...        1          1     None\n",
              "4         331.5  4170       5000  ...        1          0     None\n",
              "\n",
              "[5 rows x 14 columns]"
            ]
          },
          "metadata": {
            "tags": []
          },
          "execution_count": 21
        }
      ]
    },
    {
      "cell_type": "markdown",
      "metadata": {
        "id": "EZsI8t3zJxQO"
      },
      "source": [
        "## Cleanup\n",
        "Preprocessing and cleaning up data is an important aspect of data analysis. \n",
        "\n",
        "Show the column names."
      ]
    },
    {
      "cell_type": "code",
      "metadata": {
        "id": "yD5D_GkBJxQP",
        "outputId": "0b882ee4-2448-4f8a-ed2e-93a38a6f159d"
      },
      "source": [
        "housing_df.columns"
      ],
      "execution_count": null,
      "outputs": [
        {
          "output_type": "execute_result",
          "data": {
            "text/plain": [
              "Index(['TOTAL VALUE ', 'TAX', 'LOT SQFT ', 'YR BUILT', 'GROSS AREA ',\n",
              "       'LIVING AREA', 'FLOORS ', 'ROOMS', 'BEDROOMS ', 'FULL BATH',\n",
              "       'HALF BATH', 'KITCHEN', 'FIREPLACE', 'REMODEL'],\n",
              "      dtype='object')"
            ]
          },
          "metadata": {
            "tags": []
          },
          "execution_count": 6
        }
      ]
    },
    {
      "cell_type": "markdown",
      "metadata": {
        "id": "zujyK-7KJxQT"
      },
      "source": [
        "Note that some column titles end with spaces and some consist of two space separated words. For further analysis it's more convenient to have column names which are single words. \n",
        "\n",
        "In the rename command you can specify individual columns by name and provide their new name using a dictionary. Note that we use the `inplace` argument here. This means that the data frame is modified directly. By default, the modification is done on a copy and the copy returned by the method."
      ]
    },
    {
      "cell_type": "code",
      "metadata": {
        "id": "0S9La6o3JxQT",
        "outputId": "5c867cce-a170-490a-8eff-71493561f1fb",
        "colab": {
          "base_uri": "https://localhost:8080/",
          "height": 86
        }
      },
      "source": [
        "housing_df = housing_df.rename(columns={'TOTAL VALUE ': 'TOTAL_VALUE'})\n",
        "housing_df.columns"
      ],
      "execution_count": null,
      "outputs": [
        {
          "output_type": "execute_result",
          "data": {
            "text/plain": [
              "Index(['TOTAL_VALUE', 'TAX', 'LOT_SQFT', 'YR_BUILT', 'GROSS_AREA',\n",
              "       'LIVING_AREA', 'FLOORS', 'ROOMS', 'BEDROOMS', 'FULL_BATH', 'HALF_BATH',\n",
              "       'KITCHEN', 'FIREPLACE', 'REMODEL'],\n",
              "      dtype='object')"
            ]
          },
          "metadata": {
            "tags": []
          },
          "execution_count": 26
        }
      ]
    },
    {
      "cell_type": "markdown",
      "metadata": {
        "id": "Op4iQiLnJxQW"
      },
      "source": [
        "We therefore strip trailing spaces and replace the remaining spaces with an underscore _. Instead of using the `rename` method, we create a modified copy of `columns` and assign to the `columns` field of the dataframe."
      ]
    },
    {
      "cell_type": "code",
      "metadata": {
        "id": "u7dKUgqWJxQW",
        "outputId": "13306c1f-cda1-4604-af30-a6b4c0ebe934",
        "colab": {
          "base_uri": "https://localhost:8080/",
          "height": 86
        }
      },
      "source": [
        "housing_df.columns = [s.strip().replace(' ', '_') for s in housing_df.columns]\n",
        "housing_df.columns"
      ],
      "execution_count": null,
      "outputs": [
        {
          "output_type": "execute_result",
          "data": {
            "text/plain": [
              "Index(['TOTAL_VALUE', 'TAX', 'LOT_SQFT', 'YR_BUILT', 'GROSS_AREA',\n",
              "       'LIVING_AREA', 'FLOORS', 'ROOMS', 'BEDROOMS', 'FULL_BATH', 'HALF_BATH',\n",
              "       'KITCHEN', 'FIREPLACE', 'REMODEL'],\n",
              "      dtype='object')"
            ]
          },
          "metadata": {
            "tags": []
          },
          "execution_count": 24
        }
      ]
    },
    {
      "cell_type": "markdown",
      "metadata": {
        "id": "3Q2ABC0tRwCv"
      },
      "source": [
        "Are there any missing values in any of the columns?"
      ]
    },
    {
      "cell_type": "code",
      "metadata": {
        "id": "V2EDy-a_R2U6",
        "outputId": "00e6b661-11e9-4571-8df7-5a32e9a123de",
        "colab": {
          "base_uri": "https://localhost:8080/",
          "height": 381
        }
      },
      "source": [
        "housing_df.info()"
      ],
      "execution_count": null,
      "outputs": [
        {
          "output_type": "stream",
          "text": [
            "<class 'pandas.core.frame.DataFrame'>\n",
            "RangeIndex: 5802 entries, 0 to 5801\n",
            "Data columns (total 14 columns):\n",
            " #   Column       Non-Null Count  Dtype  \n",
            "---  ------       --------------  -----  \n",
            " 0   TOTAL_VALUE  5802 non-null   float64\n",
            " 1   TAX          5802 non-null   int64  \n",
            " 2   LOT_SQFT     5802 non-null   int64  \n",
            " 3   YR_BUILT     5802 non-null   int64  \n",
            " 4   GROSS_AREA   5802 non-null   int64  \n",
            " 5   LIVING_AREA  5802 non-null   int64  \n",
            " 6   FLOORS       5802 non-null   float64\n",
            " 7   ROOMS        5802 non-null   int64  \n",
            " 8   BEDROOMS     5802 non-null   int64  \n",
            " 9   FULL_BATH    5802 non-null   int64  \n",
            " 10  HALF_BATH    5802 non-null   int64  \n",
            " 11  KITCHEN      5802 non-null   int64  \n",
            " 12  FIREPLACE    5802 non-null   int64  \n",
            " 13  REMODEL      5802 non-null   object \n",
            "dtypes: float64(2), int64(11), object(1)\n",
            "memory usage: 634.7+ KB\n"
          ],
          "name": "stdout"
        }
      ]
    },
    {
      "cell_type": "markdown",
      "metadata": {
        "id": "sTKg9kqKJxQc"
      },
      "source": [
        "## Accessing subsets of the data\n",
        "Pandas uses two methods to access rows in a data frame; `loc` and `iloc`. The `loc` method is more general and allows accessing rows using labels. The `iloc` method on the other hand only allows using integer numbers. To specify a range of rows use the slice notation, e.g. `0:9`.\n",
        "\n",
        "<div class='alert alert-info'>Note that in contrast to R, Python uses 0-indexing, which means that indices start at 0 and not at 1.</div>\n",
        "\n",
        "To show the first four rows of the data frame, you can use the following commands."
      ]
    },
    {
      "cell_type": "code",
      "metadata": {
        "id": "Fz5Lfn8EJxQd",
        "outputId": "e9be30d5-0499-4bc8-b50a-17955d5de0d2",
        "colab": {
          "base_uri": "https://localhost:8080/",
          "height": 165
        }
      },
      "source": [
        "housing_df.loc[0:3]  # for loc, the second index in the slice is inclusive"
      ],
      "execution_count": null,
      "outputs": [
        {
          "output_type": "error",
          "ename": "NameError",
          "evalue": "ignored",
          "traceback": [
            "\u001b[0;31m---------------------------------------------------------------------------\u001b[0m",
            "\u001b[0;31mNameError\u001b[0m                                 Traceback (most recent call last)",
            "\u001b[0;32m<ipython-input-3-c64b30365a72>\u001b[0m in \u001b[0;36m<module>\u001b[0;34m()\u001b[0m\n\u001b[0;32m----> 1\u001b[0;31m \u001b[0mhousing_df\u001b[0m\u001b[0;34m.\u001b[0m\u001b[0mloc\u001b[0m\u001b[0;34m[\u001b[0m\u001b[0;36m0\u001b[0m\u001b[0;34m:\u001b[0m\u001b[0;36m3\u001b[0m\u001b[0;34m]\u001b[0m  \u001b[0;31m# for loc, the second index in the slice is inclusive\u001b[0m\u001b[0;34m\u001b[0m\u001b[0;34m\u001b[0m\u001b[0m\n\u001b[0m",
            "\u001b[0;31mNameError\u001b[0m: name 'housing_df' is not defined"
          ]
        }
      ]
    },
    {
      "cell_type": "code",
      "metadata": {
        "id": "aBmejh67JxQf",
        "outputId": "786288ea-d033-4ef8-a3b4-a5f7712ecab7",
        "colab": {
          "base_uri": "https://localhost:8080/",
          "height": 165
        }
      },
      "source": [
        "housing_df.iloc[0:4]  # for loc, the second index in the slice is exclusive"
      ],
      "execution_count": null,
      "outputs": [
        {
          "output_type": "error",
          "ename": "NameError",
          "evalue": "ignored",
          "traceback": [
            "\u001b[0;31m---------------------------------------------------------------------------\u001b[0m",
            "\u001b[0;31mNameError\u001b[0m                                 Traceback (most recent call last)",
            "\u001b[0;32m<ipython-input-4-be7b329dfcdd>\u001b[0m in \u001b[0;36m<module>\u001b[0;34m()\u001b[0m\n\u001b[0;32m----> 1\u001b[0;31m \u001b[0mhousing_df\u001b[0m\u001b[0;34m.\u001b[0m\u001b[0miloc\u001b[0m\u001b[0;34m[\u001b[0m\u001b[0;36m0\u001b[0m\u001b[0;34m:\u001b[0m\u001b[0;36m4\u001b[0m\u001b[0;34m]\u001b[0m  \u001b[0;31m# for loc, the second index in the slice is exclusive\u001b[0m\u001b[0;34m\u001b[0m\u001b[0;34m\u001b[0m\u001b[0m\n\u001b[0m",
            "\u001b[0;31mNameError\u001b[0m: name 'housing_df' is not defined"
          ]
        }
      ]
    },
    {
      "cell_type": "markdown",
      "metadata": {
        "id": "OTJR9nyYJxQh"
      },
      "source": [
        "Note the difference in the two methods with respect to the slice notation! For consistency with how slices are defined in Python, we will use the `iloc` method mostly from here on.\n",
        "\n",
        "Next, show the first ten rows of the first column"
      ]
    },
    {
      "cell_type": "code",
      "metadata": {
        "id": "uydKl18PJxQi"
      },
      "source": [
        "housing_df['TOTAL_VALUE'].iloc[0:10]\n",
        "housing_df.iloc[0:10]['TOTAL_VALUE']  # the order is not important\n",
        "housing_df.iloc[0:10].TOTAL_VALUE"
      ],
      "execution_count": null,
      "outputs": []
    },
    {
      "cell_type": "markdown",
      "metadata": {
        "id": "Xf9ZiANbJxQk"
      },
      "source": [
        "Show the fifth row of the first 10 columns. The `iloc` methods allows specifying the rows and columns within one set of brackets. `dataframe.iloc[rows, columns]`"
      ]
    },
    {
      "cell_type": "code",
      "metadata": {
        "id": "VDl7CysMJxQl"
      },
      "source": [
        "housing_df.iloc[4][0:10]\n",
        "housing_df.iloc[4, 0:10]  # this is equivalent"
      ],
      "execution_count": null,
      "outputs": []
    },
    {
      "cell_type": "markdown",
      "metadata": {
        "id": "Dc-ueUTnJxQn"
      },
      "source": [
        "If you prefer to preserve the data frame format, use a slice for the rows as well."
      ]
    },
    {
      "cell_type": "code",
      "metadata": {
        "id": "TQ7Hla6WJxQo"
      },
      "source": [
        "housing_df.iloc[4:5, 0:10]"
      ],
      "execution_count": null,
      "outputs": []
    },
    {
      "cell_type": "markdown",
      "metadata": {
        "id": "YRnydCg-JxQq"
      },
      "source": [
        "Use the `pd.concat` method if you want to combine non-consecutive columns into a new data frame. The `axis` argument specifies the dimension along which the concatenation happens, 0=rows, 1=columns."
      ]
    },
    {
      "cell_type": "code",
      "metadata": {
        "id": "lhIyXxzFJxQr"
      },
      "source": [
        "pd.concat([housing_df.iloc[4:6,0:2], housing_df.iloc[4:6,4:6]], axis=1)"
      ],
      "execution_count": null,
      "outputs": []
    },
    {
      "cell_type": "code",
      "metadata": {
        "id": "6jx0s51qsief"
      },
      "source": [
        "pd.concat([housing_df.iloc[4:6,0:2], housing_df.iloc[10:12,0:2]], axis=0)"
      ],
      "execution_count": null,
      "outputs": []
    },
    {
      "cell_type": "markdown",
      "metadata": {
        "id": "cozpq7vsJxQt"
      },
      "source": [
        "To specify a full column, use the `:` on its own.\n",
        "```\n",
        "housing.iloc[:,0:1]\n",
        "```\n",
        "A often more practical way is to use the column name as follows"
      ]
    },
    {
      "cell_type": "code",
      "metadata": {
        "scrolled": false,
        "id": "ccJ-frFtJxQt"
      },
      "source": [
        "housing_df['TOTAL_VALUE']"
      ],
      "execution_count": null,
      "outputs": []
    },
    {
      "cell_type": "markdown",
      "metadata": {
        "id": "Q_RxWeAKJxQw"
      },
      "source": [
        "We can subset the column using a slice"
      ]
    },
    {
      "cell_type": "code",
      "metadata": {
        "id": "BCsfpu0TJxQw"
      },
      "source": [
        "housing_df['TOTAL_VALUE'][0:10]"
      ],
      "execution_count": null,
      "outputs": []
    },
    {
      "cell_type": "markdown",
      "metadata": {
        "id": "CIvcgXm2JxQz"
      },
      "source": [
        "Pandas provides a number of ways to access statistics of the columns."
      ]
    },
    {
      "cell_type": "code",
      "metadata": {
        "id": "ab2l_p-oJxQz"
      },
      "source": [
        "print('Number of rows ', len(housing_df['TOTAL_VALUE']))\n",
        "print('Mean of TOTAL_VALUE ', housing_df['TOTAL_VALUE'].mean())"
      ],
      "execution_count": null,
      "outputs": []
    },
    {
      "cell_type": "markdown",
      "metadata": {
        "id": "qt1Aqmb2JxQ1"
      },
      "source": [
        "A data frame also has the method `describe` that prints a number of common statistics "
      ]
    },
    {
      "cell_type": "code",
      "metadata": {
        "id": "RQHEd-H-JxQ1"
      },
      "source": [
        "housing_df['TOTAL_VALUE'].describe()"
      ],
      "execution_count": null,
      "outputs": []
    },
    {
      "cell_type": "code",
      "metadata": {
        "id": "8K7S7VXhJxQ3"
      },
      "source": [
        "housing_df.describe()"
      ],
      "execution_count": null,
      "outputs": []
    },
    {
      "cell_type": "markdown",
      "metadata": {
        "id": "1QQOy0GUJxQ5"
      },
      "source": [
        "## Table 2.4\n",
        "Use the `sample` method to retrieve a random sample of observations. Here we sample 5 observations without replacement."
      ]
    },
    {
      "cell_type": "code",
      "metadata": {
        "id": "ZlBcZnQ8JxQ6",
        "outputId": "7e3805fe-368b-4301-be72-fa075648b48d",
        "colab": {
          "base_uri": "https://localhost:8080/",
          "height": 202
        }
      },
      "source": [
        "housing_df.sample(5)"
      ],
      "execution_count": null,
      "outputs": [
        {
          "output_type": "execute_result",
          "data": {
            "text/html": [
              "<div>\n",
              "<style scoped>\n",
              "    .dataframe tbody tr th:only-of-type {\n",
              "        vertical-align: middle;\n",
              "    }\n",
              "\n",
              "    .dataframe tbody tr th {\n",
              "        vertical-align: top;\n",
              "    }\n",
              "\n",
              "    .dataframe thead th {\n",
              "        text-align: right;\n",
              "    }\n",
              "</style>\n",
              "<table border=\"1\" class=\"dataframe\">\n",
              "  <thead>\n",
              "    <tr style=\"text-align: right;\">\n",
              "      <th></th>\n",
              "      <th>TOTAL VALUE</th>\n",
              "      <th>TAX</th>\n",
              "      <th>LOT SQFT</th>\n",
              "      <th>YR BUILT</th>\n",
              "      <th>GROSS AREA</th>\n",
              "      <th>LIVING AREA</th>\n",
              "      <th>FLOORS</th>\n",
              "      <th>ROOMS</th>\n",
              "      <th>BEDROOMS</th>\n",
              "      <th>FULL BATH</th>\n",
              "      <th>HALF BATH</th>\n",
              "      <th>KITCHEN</th>\n",
              "      <th>FIREPLACE</th>\n",
              "      <th>REMODEL</th>\n",
              "    </tr>\n",
              "  </thead>\n",
              "  <tbody>\n",
              "    <tr>\n",
              "      <th>2896</th>\n",
              "      <td>336.7</td>\n",
              "      <td>4235</td>\n",
              "      <td>3700</td>\n",
              "      <td>1950</td>\n",
              "      <td>2304</td>\n",
              "      <td>1120</td>\n",
              "      <td>1.0</td>\n",
              "      <td>6</td>\n",
              "      <td>3</td>\n",
              "      <td>1</td>\n",
              "      <td>1</td>\n",
              "      <td>1</td>\n",
              "      <td>0</td>\n",
              "      <td>None</td>\n",
              "    </tr>\n",
              "    <tr>\n",
              "      <th>5049</th>\n",
              "      <td>456.6</td>\n",
              "      <td>5744</td>\n",
              "      <td>7040</td>\n",
              "      <td>1950</td>\n",
              "      <td>2970</td>\n",
              "      <td>1708</td>\n",
              "      <td>2.0</td>\n",
              "      <td>7</td>\n",
              "      <td>3</td>\n",
              "      <td>1</td>\n",
              "      <td>2</td>\n",
              "      <td>1</td>\n",
              "      <td>1</td>\n",
              "      <td>None</td>\n",
              "    </tr>\n",
              "    <tr>\n",
              "      <th>2759</th>\n",
              "      <td>474.0</td>\n",
              "      <td>5962</td>\n",
              "      <td>8192</td>\n",
              "      <td>1900</td>\n",
              "      <td>4616</td>\n",
              "      <td>2443</td>\n",
              "      <td>2.0</td>\n",
              "      <td>9</td>\n",
              "      <td>4</td>\n",
              "      <td>1</td>\n",
              "      <td>1</td>\n",
              "      <td>1</td>\n",
              "      <td>1</td>\n",
              "      <td>None</td>\n",
              "    </tr>\n",
              "    <tr>\n",
              "      <th>488</th>\n",
              "      <td>327.9</td>\n",
              "      <td>4124</td>\n",
              "      <td>10759</td>\n",
              "      <td>1967</td>\n",
              "      <td>2756</td>\n",
              "      <td>1469</td>\n",
              "      <td>1.5</td>\n",
              "      <td>6</td>\n",
              "      <td>2</td>\n",
              "      <td>1</td>\n",
              "      <td>1</td>\n",
              "      <td>1</td>\n",
              "      <td>0</td>\n",
              "      <td>None</td>\n",
              "    </tr>\n",
              "    <tr>\n",
              "      <th>1725</th>\n",
              "      <td>405.7</td>\n",
              "      <td>5103</td>\n",
              "      <td>8250</td>\n",
              "      <td>1950</td>\n",
              "      <td>2808</td>\n",
              "      <td>1536</td>\n",
              "      <td>2.0</td>\n",
              "      <td>7</td>\n",
              "      <td>3</td>\n",
              "      <td>1</td>\n",
              "      <td>1</td>\n",
              "      <td>1</td>\n",
              "      <td>1</td>\n",
              "      <td>None</td>\n",
              "    </tr>\n",
              "  </tbody>\n",
              "</table>\n",
              "</div>"
            ],
            "text/plain": [
              "      TOTAL VALUE    TAX  LOT SQFT   ...  KITCHEN  FIREPLACE  REMODEL\n",
              "2896         336.7  4235       3700  ...        1          0     None\n",
              "5049         456.6  5744       7040  ...        1          1     None\n",
              "2759         474.0  5962       8192  ...        1          1     None\n",
              "488          327.9  4124      10759  ...        1          0     None\n",
              "1725         405.7  5103       8250  ...        1          1     None\n",
              "\n",
              "[5 rows x 14 columns]"
            ]
          },
          "metadata": {
            "tags": []
          },
          "execution_count": 4
        }
      ]
    },
    {
      "cell_type": "markdown",
      "metadata": {
        "id": "36p2vJBpJxQ8"
      },
      "source": [
        "The sample method allows to specify weights for the individual rows. We use this here to oversample houses with over 10 rooms."
      ]
    },
    {
      "cell_type": "code",
      "metadata": {
        "id": "XSG4vx7sJxQ8",
        "outputId": "1128b991-436a-4f19-f6a7-517da30733cd",
        "colab": {
          "base_uri": "https://localhost:8080/",
          "height": 202
        }
      },
      "source": [
        "weights = [0.9 if rooms > 10 else 0.01 for rooms in housing_df.ROOMS]\n",
        "housing_df.sample(5, weights=weights)"
      ],
      "execution_count": null,
      "outputs": [
        {
          "output_type": "execute_result",
          "data": {
            "text/html": [
              "<div>\n",
              "<style scoped>\n",
              "    .dataframe tbody tr th:only-of-type {\n",
              "        vertical-align: middle;\n",
              "    }\n",
              "\n",
              "    .dataframe tbody tr th {\n",
              "        vertical-align: top;\n",
              "    }\n",
              "\n",
              "    .dataframe thead th {\n",
              "        text-align: right;\n",
              "    }\n",
              "</style>\n",
              "<table border=\"1\" class=\"dataframe\">\n",
              "  <thead>\n",
              "    <tr style=\"text-align: right;\">\n",
              "      <th></th>\n",
              "      <th>TOTAL VALUE</th>\n",
              "      <th>TAX</th>\n",
              "      <th>LOT SQFT</th>\n",
              "      <th>YR BUILT</th>\n",
              "      <th>GROSS AREA</th>\n",
              "      <th>LIVING AREA</th>\n",
              "      <th>FLOORS</th>\n",
              "      <th>ROOMS</th>\n",
              "      <th>BEDROOMS</th>\n",
              "      <th>FULL BATH</th>\n",
              "      <th>HALF BATH</th>\n",
              "      <th>KITCHEN</th>\n",
              "      <th>FIREPLACE</th>\n",
              "      <th>REMODEL</th>\n",
              "    </tr>\n",
              "  </thead>\n",
              "  <tbody>\n",
              "    <tr>\n",
              "      <th>5656</th>\n",
              "      <td>555.8</td>\n",
              "      <td>6991</td>\n",
              "      <td>7235</td>\n",
              "      <td>1949</td>\n",
              "      <td>4221</td>\n",
              "      <td>2484</td>\n",
              "      <td>1.0</td>\n",
              "      <td>13</td>\n",
              "      <td>4</td>\n",
              "      <td>2</td>\n",
              "      <td>1</td>\n",
              "      <td>2</td>\n",
              "      <td>1</td>\n",
              "      <td>Recent</td>\n",
              "    </tr>\n",
              "    <tr>\n",
              "      <th>3564</th>\n",
              "      <td>453.6</td>\n",
              "      <td>5706</td>\n",
              "      <td>5000</td>\n",
              "      <td>1910</td>\n",
              "      <td>5401</td>\n",
              "      <td>2951</td>\n",
              "      <td>2.0</td>\n",
              "      <td>13</td>\n",
              "      <td>4</td>\n",
              "      <td>2</td>\n",
              "      <td>0</td>\n",
              "      <td>1</td>\n",
              "      <td>0</td>\n",
              "      <td>None</td>\n",
              "    </tr>\n",
              "    <tr>\n",
              "      <th>2797</th>\n",
              "      <td>576.2</td>\n",
              "      <td>7248</td>\n",
              "      <td>8233</td>\n",
              "      <td>1900</td>\n",
              "      <td>6109</td>\n",
              "      <td>3802</td>\n",
              "      <td>2.5</td>\n",
              "      <td>10</td>\n",
              "      <td>6</td>\n",
              "      <td>2</td>\n",
              "      <td>0</td>\n",
              "      <td>1</td>\n",
              "      <td>1</td>\n",
              "      <td>None</td>\n",
              "    </tr>\n",
              "    <tr>\n",
              "      <th>4500</th>\n",
              "      <td>490.1</td>\n",
              "      <td>6165</td>\n",
              "      <td>9000</td>\n",
              "      <td>1939</td>\n",
              "      <td>4123</td>\n",
              "      <td>2285</td>\n",
              "      <td>2.0</td>\n",
              "      <td>11</td>\n",
              "      <td>4</td>\n",
              "      <td>1</td>\n",
              "      <td>1</td>\n",
              "      <td>1</td>\n",
              "      <td>1</td>\n",
              "      <td>Old</td>\n",
              "    </tr>\n",
              "    <tr>\n",
              "      <th>1850</th>\n",
              "      <td>505.6</td>\n",
              "      <td>6360</td>\n",
              "      <td>7205</td>\n",
              "      <td>1954</td>\n",
              "      <td>4996</td>\n",
              "      <td>2375</td>\n",
              "      <td>1.5</td>\n",
              "      <td>11</td>\n",
              "      <td>6</td>\n",
              "      <td>3</td>\n",
              "      <td>0</td>\n",
              "      <td>2</td>\n",
              "      <td>0</td>\n",
              "      <td>None</td>\n",
              "    </tr>\n",
              "  </tbody>\n",
              "</table>\n",
              "</div>"
            ],
            "text/plain": [
              "      TOTAL VALUE    TAX  LOT SQFT   ...  KITCHEN  FIREPLACE  REMODEL\n",
              "5656         555.8  6991       7235  ...        2          1   Recent\n",
              "3564         453.6  5706       5000  ...        1          0     None\n",
              "2797         576.2  7248       8233  ...        1          1     None\n",
              "4500         490.1  6165       9000  ...        1          1      Old\n",
              "1850         505.6  6360       7205  ...        2          0     None\n",
              "\n",
              "[5 rows x 14 columns]"
            ]
          },
          "metadata": {
            "tags": []
          },
          "execution_count": 5
        }
      ]
    },
    {
      "cell_type": "markdown",
      "metadata": {
        "id": "yT_KvFylJxQ_"
      },
      "source": [
        "## Table 2.5"
      ]
    },
    {
      "cell_type": "code",
      "metadata": {
        "id": "EsABQF0BJxQ_",
        "outputId": "85103cce-401c-41e9-c14b-0b295bfda859",
        "colab": {
          "base_uri": "https://localhost:8080/",
          "height": 86
        }
      },
      "source": [
        "housing_df.columns"
      ],
      "execution_count": null,
      "outputs": [
        {
          "output_type": "execute_result",
          "data": {
            "text/plain": [
              "Index(['TOTAL_VALUE', 'TAX', 'LOT_SQFT', 'YR_BUILT', 'GROSS_AREA',\n",
              "       'LIVING_AREA', 'FLOORS', 'ROOMS', 'BEDROOMS', 'FULL_BATH', 'HALF_BATH',\n",
              "       'KITCHEN', 'FIREPLACE', 'REMODEL'],\n",
              "      dtype='object')"
            ]
          },
          "metadata": {
            "tags": []
          },
          "execution_count": 49
        }
      ]
    },
    {
      "cell_type": "markdown",
      "metadata": {
        "id": "K1cgXpqUJxRB"
      },
      "source": [
        "The REMODEL column is a factor, so we need to change it's type."
      ]
    },
    {
      "cell_type": "code",
      "metadata": {
        "id": "NroRordAJxRC",
        "outputId": "0c9c3544-ac4c-4d35-830f-f6a228408ce9",
        "colab": {
          "base_uri": "https://localhost:8080/",
          "height": 69
        }
      },
      "source": [
        "print(housing_df.REMODEL.dtype)\n",
        "housing_df.REMODEL = housing_df.REMODEL.astype('category')\n",
        "print(housing_df.REMODEL.cat.categories)  # It can take one of three levels\n",
        "print(housing_df.REMODEL.dtype)  # Type is now 'category'"
      ],
      "execution_count": null,
      "outputs": [
        {
          "output_type": "stream",
          "text": [
            "object\n",
            "Index(['None', 'Old', 'Recent'], dtype='object')\n",
            "category\n"
          ],
          "name": "stdout"
        }
      ]
    },
    {
      "cell_type": "markdown",
      "metadata": {
        "id": "0VXOnuDeJxRE"
      },
      "source": [
        "Other columns also have types."
      ]
    },
    {
      "cell_type": "code",
      "metadata": {
        "id": "GCX_d0DPJxRE",
        "outputId": "5d3e8753-2619-4d02-8ba8-dc2dfde6e6b5"
      },
      "source": [
        "print(housing_df.BEDROOMS.dtype)  # BEDROOMS is an integer variable\n",
        "print(housing_df.TOTAL_VALUE.dtype)  # Total_Value is a numeric variable"
      ],
      "execution_count": null,
      "outputs": [
        {
          "output_type": "stream",
          "text": [
            "int64\n",
            "float64\n"
          ],
          "name": "stdout"
        }
      ]
    },
    {
      "cell_type": "markdown",
      "metadata": {
        "id": "I0MEEhxOJxRG"
      },
      "source": [
        "It's also possible to the all columns data types "
      ]
    },
    {
      "cell_type": "code",
      "metadata": {
        "id": "jXvo_gjrJxRG",
        "outputId": "85b9bbeb-a346-4fd5-c89b-5de1cd4f3d56"
      },
      "source": [
        "housing_df.dtypes"
      ],
      "execution_count": null,
      "outputs": [
        {
          "output_type": "execute_result",
          "data": {
            "text/plain": [
              "TOTAL_VALUE     float64\n",
              "TAX               int64\n",
              "LOT_SQFT          int64\n",
              "YR_BUILT          int64\n",
              "GROSS_AREA        int64\n",
              "LIVING_AREA       int64\n",
              "FLOORS          float64\n",
              "ROOMS             int64\n",
              "BEDROOMS          int64\n",
              "FULL_BATH         int64\n",
              "HALF_BATH         int64\n",
              "KITCHEN           int64\n",
              "FIREPLACE         int64\n",
              "REMODEL        category\n",
              "dtype: object"
            ]
          },
          "metadata": {
            "tags": []
          },
          "execution_count": 25
        }
      ]
    },
    {
      "cell_type": "markdown",
      "metadata": {
        "id": "IB4a9DPJJxRI"
      },
      "source": [
        "## Table 2.6\n",
        "Pandas provides a method to convert factors into dummy variables."
      ]
    },
    {
      "cell_type": "code",
      "metadata": {
        "id": "bFvRfSlUJxRI",
        "outputId": "5f768c34-a0e9-41e7-929a-11d095e974b1",
        "colab": {
          "base_uri": "https://localhost:8080/",
          "height": 86
        }
      },
      "source": [
        "housing_df = pd.get_dummies(housing_df, prefix_sep='_', drop_first=True)\n",
        "housing_df.columns"
      ],
      "execution_count": null,
      "outputs": [
        {
          "output_type": "execute_result",
          "data": {
            "text/plain": [
              "Index(['TOTAL_VALUE', 'TAX', 'LOT_SQFT', 'YR_BUILT', 'GROSS_AREA',\n",
              "       'LIVING_AREA', 'FLOORS', 'ROOMS', 'BEDROOMS', 'FULL_BATH', 'HALF_BATH',\n",
              "       'KITCHEN', 'FIREPLACE', 'REMODEL_Old', 'REMODEL_Recent'],\n",
              "      dtype='object')"
            ]
          },
          "metadata": {
            "tags": []
          },
          "execution_count": 51
        }
      ]
    },
    {
      "cell_type": "code",
      "metadata": {
        "id": "1WxNdSuIJxRK",
        "outputId": "4391f67c-53c8-444b-9097-cfbee426867b",
        "colab": {
          "base_uri": "https://localhost:8080/",
          "height": 121
        }
      },
      "source": [
        "print(housing_df.loc[:, 'REMODEL_Old':'REMODEL_Recent'].head(5))"
      ],
      "execution_count": null,
      "outputs": [
        {
          "output_type": "stream",
          "text": [
            "   REMODEL_Old  REMODEL_Recent\n",
            "0            0               0\n",
            "1            0               1\n",
            "2            0               0\n",
            "3            0               0\n",
            "4            0               0\n"
          ],
          "name": "stdout"
        }
      ]
    },
    {
      "cell_type": "markdown",
      "metadata": {
        "id": "FpzTYgFLJxRM"
      },
      "source": [
        "## Table 2.7\n",
        "To illustrate missing data procedures, we first convert a few entries for bedrooms to NA's. Then we impute these missing values using the median of the remaining values."
      ]
    },
    {
      "cell_type": "code",
      "metadata": {
        "id": "zTJc6EsRJxRM",
        "outputId": "5e01fff0-f985-4eeb-cb11-e35b39eeeb7f"
      },
      "source": [
        "print('Number of rows with valid BEDROOMS values before: ', \n",
        "      housing_df['BEDROOMS'].count()) \n",
        "missingRows = housing_df.sample(10).index\n",
        "housing_df.loc[missingRows, 'BEDROOMS'] = np.nan\n",
        "print('Number of rows with valid BEDROOMS values after setting to NAN: ', \n",
        "      housing_df['BEDROOMS'].count()) \n",
        "housing_df['BEDROOMS'].count()"
      ],
      "execution_count": null,
      "outputs": [
        {
          "output_type": "stream",
          "text": [
            "Number of rows with valid BEDROOMS values before:  5802\n",
            "Number of rows with valid BEDROOMS values after setting to NAN:  5792\n"
          ],
          "name": "stdout"
        },
        {
          "output_type": "execute_result",
          "data": {
            "text/plain": [
              "5792"
            ]
          },
          "metadata": {
            "tags": []
          },
          "execution_count": 28
        }
      ]
    },
    {
      "cell_type": "code",
      "metadata": {
        "id": "a9FQjWbRJxRQ",
        "outputId": "89056c24-b0dc-4b47-c80b-447fe14a44f5"
      },
      "source": [
        "# remove rows with missing values \n",
        "reduced_df = housing_df.dropna()\n",
        "print('Number of rows after removing rows with missing values: ', len(reduced_df))"
      ],
      "execution_count": null,
      "outputs": [
        {
          "output_type": "stream",
          "text": [
            "Number of rows after removing rows with missing values:  5792\n"
          ],
          "name": "stdout"
        }
      ]
    },
    {
      "cell_type": "markdown",
      "metadata": {
        "id": "T5ZQ0IUeJxRT"
      },
      "source": [
        "Replace the missing values using the median of the remaining values.\n",
        "\n",
        "By default, the `median` method of a pandas dataframe ignores NA values. This is in contrast to R where this must be specified explicitly."
      ]
    },
    {
      "cell_type": "code",
      "metadata": {
        "id": "1FeZsMD4JxRU",
        "outputId": "794a25f9-5b95-4a3a-a117-29be31726afe"
      },
      "source": [
        "medianBedrooms = housing_df['BEDROOMS'].median()\n",
        "housing_df.BEDROOMS = housing_df.BEDROOMS.fillna(value=medianBedrooms)\n",
        "print('Number of rows with valid BEDROOMS values after filling NA values: ',\n",
        "      housing_df['BEDROOMS'].count())"
      ],
      "execution_count": null,
      "outputs": [
        {
          "output_type": "stream",
          "text": [
            "Number of rows with valid BEDROOMS values after filling NA values:  5802\n"
          ],
          "name": "stdout"
        }
      ]
    },
    {
      "cell_type": "markdown",
      "metadata": {
        "id": "gGi6Ya_uJxRX"
      },
      "source": [
        "## Table 2.8 - Normalizing and Rescaling Data"
      ]
    },
    {
      "cell_type": "code",
      "metadata": {
        "id": "1P5hqyRKJxRX"
      },
      "source": [
        "from sklearn.preprocessing import MinMaxScaler, StandardScaler\n",
        "df = housing_df.copy()\n",
        "\n",
        "# Normalizing a data frame\n",
        "\n",
        "# pandas:\n",
        "norm_df = (housing_df - housing_df.mean()) / housing_df.std()\n",
        "\n",
        "# scikit-learn: \n",
        "scaler = StandardScaler()\n",
        "norm_df = pd.DataFrame(scaler.fit_transform(housing_df), \n",
        "                       index=housing_df.index, columns=housing_df.columns)\n",
        "# the result of the transformation is a numpy array, we convert it into a dataframe\n",
        "\n",
        "# Rescaling a data frame\n",
        "# pandas:\n",
        "rescaled_df = (housing_df - housing_df.min()) / (housing_df.max() - housing_df.min())\n",
        "\n",
        "# scikit-learn:\n",
        "scaler = MinMaxScaler()\n",
        "rescaled_df = pd.DataFrame(scaler.fit_transform(housing_df), \n",
        "                       index=housing_df.index, columns=housing_df.columns)"
      ],
      "execution_count": null,
      "outputs": []
    },
    {
      "cell_type": "markdown",
      "metadata": {
        "id": "aHDyZ2ejJxRZ"
      },
      "source": [
        "The standardization of the dataset may give a <code>DataConversionWarning</code>. This informs you that the integer columns in the dataframe are automatically converted to real numbers (<code>float64</code>). This is expected and you can therefore ignore this warning. If you want to suppress the warning, you can explicitly convert the integer columns to real numbers</p>\n",
        "<pre>\n",
        "# Option 1: Identify all integer columns, remove personal loan, \n",
        "# and change their type\n",
        "intColumns = [c for c in housing_df.columns if housing_df[c].dtype == 'int']\n",
        "housing_df[intColumns] = housing_df[intColumns].astype('float64')\n",
        "</pre>\n",
        "Alternatively, you can suppress the warning as follows:\n",
        "<pre>\n",
        "# Option 2: use the warnings package to suppress the display of the warning\n",
        "import warnings\n",
        "with warnings.catch_warnings():\n",
        "    warnings.simplefilter('ignore')\n",
        "    norm_df = pd.DataFrame(scaler.fit_transform(housing_df), \n",
        "                       index=housing_df.index, columns=housing_df.columns)    \n",
        "</pre>"
      ]
    },
    {
      "cell_type": "markdown",
      "metadata": {
        "id": "2q5RzzC6JxRZ"
      },
      "source": [
        "## Table 2.10\n",
        "Split the dataset into training (60%) and validation (40%) sets. Randomly sample 60% of the dataset into a new data frame `trainData`. The remaining 40% serve as validation."
      ]
    },
    {
      "cell_type": "code",
      "metadata": {
        "id": "ITHDwlcmJxRa",
        "outputId": "9570b0f4-ac63-4c5c-f35b-32e97f7a6517",
        "colab": {
          "base_uri": "https://localhost:8080/",
          "height": 103
        }
      },
      "source": [
        "# random_state is set to a defined value to get the same partitions when re-running the code\n",
        "trainData= housing_df.sample(frac=0.6, random_state=1)\n",
        "# assign rows that are not already in the training set, into validation \n",
        "validData = housing_df.drop(trainData.index)\n",
        "\n",
        "print('Training   : ', trainData.shape)\n",
        "print('Validation : ', validData.shape)\n",
        "print()\n",
        "\n",
        "# alternative way using scikit-learn\n",
        "trainData, validData = train_test_split(housing_df, test_size=0.40, random_state=1)\n",
        "print('Training   : ', trainData.shape)\n",
        "print('Validation : ', validData.shape)"
      ],
      "execution_count": null,
      "outputs": [
        {
          "output_type": "stream",
          "text": [
            "Training   :  (3481, 15)\n",
            "Validation :  (2321, 15)\n",
            "\n",
            "Training   :  (3481, 15)\n",
            "Validation :  (2321, 15)\n"
          ],
          "name": "stdout"
        }
      ]
    },
    {
      "cell_type": "markdown",
      "metadata": {
        "id": "e5U0rS9GJxRc"
      },
      "source": [
        "Partition the dataset into training (50%), validation (30%), and test sets (20%). "
      ]
    },
    {
      "cell_type": "code",
      "metadata": {
        "id": "sOHm1KleJxRc",
        "outputId": "836430ca-d637-4984-cc08-0d5345c7270b",
        "colab": {
          "base_uri": "https://localhost:8080/",
          "height": 155
        }
      },
      "source": [
        "# randomly sample 50% of the row IDs for training\n",
        "trainData = housing_df.sample(frac=0.5, random_state=1)\n",
        "# sample 30% of the row IDs into the validation set, drawing only from records\n",
        "# not already in the training set; 60% of 50% is 30%\n",
        "validData = housing_df.drop(trainData.index).sample(frac=0.6, random_state=1)  \n",
        "# the remaining 20% rows serve as test\n",
        "testData = housing_df.drop(trainData.index).drop(validData.index)\n",
        "\n",
        "print('Training   : ', trainData.shape)\n",
        "print('Validation : ', validData.shape)\n",
        "print('Test       : ', testData.shape)\n",
        "print()\n",
        "\n",
        "# alternative way using scikit-learn\n",
        "trainData, temp = train_test_split(housing_df, test_size=0.5, random_state=1)\n",
        "validData, testData = train_test_split(temp, test_size=0.4, random_state=1)\n",
        "print('Training   : ', trainData.shape)\n",
        "print('Validation : ', validData.shape)\n",
        "print('Test       : ', testData.shape)\n",
        "\n",
        "trainToOriginal = round(trainData.shape[0]/(housing_df.shape[0]), 2) * 100\n",
        "valToOriginal = round(validData.shape[0]/(housing_df.shape[0]), 2) * 100\n",
        "testToOriginal = round(testData.shape[0]/(housing_df.shape[0]), 2) * 100\n",
        "\n",
        "print ('Ratio to original data: Train {}%, Val {}%, and Test {}% '.format(trainToOriginal,valToOriginal,testToOriginal))\n"
      ],
      "execution_count": null,
      "outputs": [
        {
          "output_type": "stream",
          "text": [
            "Training   :  (2901, 15)\n",
            "Validation :  (1741, 15)\n",
            "Test       :  (1160, 15)\n",
            "\n",
            "Training   :  (2901, 15)\n",
            "Validation :  (1740, 15)\n",
            "Test       :  (1161, 15)\n",
            "Ratio to original data: Train 50.0%, Val30.0%, and Test 20.0% \n"
          ],
          "name": "stdout"
        }
      ]
    },
    {
      "cell_type": "markdown",
      "metadata": {
        "id": "PDnpaWNjJxRe"
      },
      "source": [
        "## Section 2.6 - Building a Predictive Model\n",
        "The statsmodels package allows to define linear regression models using a formula definition similar to R. In contrast to R, all variables need to be specified explicitly. We construct a formula excluding the dependent variable and the `TAX` column"
      ]
    },
    {
      "cell_type": "code",
      "metadata": {
        "scrolled": false,
        "id": "dM6ZzU2aJxRe",
        "outputId": "255f5c73-e996-499c-9a8e-c8ee4f1f03fb",
        "colab": {
          "base_uri": "https://localhost:8080/",
          "height": 234
        }
      },
      "source": [
        "# Data loading and preprocessing\n",
        "housing_df = pd.read_csv('WestRoxbury.csv')\n",
        "housing_df.columns = [s.strip().replace(' ', '_') for s in housing_df.columns]\n",
        "housing_df = pd.get_dummies(housing_df, prefix_sep='_', drop_first=True)\n",
        "\n",
        "excludeColumns = ('TOTAL_VALUE', 'TAX')\n",
        "predictors = [s for s in housing_df.columns if s not in excludeColumns]\n",
        "outcome = 'TOTAL_VALUE'\n",
        "\n",
        "# partition data\n",
        "X = housing_df[predictors]\n",
        "y = housing_df[outcome]\n",
        "train_X, valid_X, train_y, valid_y = train_test_split(X, y, test_size=0.4, random_state=1)\n",
        "\n",
        "model = LinearRegression()\n",
        "model.fit(train_X, train_y)\n",
        "\n",
        "train_pred = model.predict(train_X)\n",
        "train_results = pd.DataFrame({\n",
        "    'TOTAL_VALUE': train_y, \n",
        "    'predicted': train_pred, \n",
        "    'residual': train_y - train_pred\n",
        "})\n",
        "print(train_results.head())"
      ],
      "execution_count": null,
      "outputs": [
        {
          "output_type": "error",
          "ename": "NameError",
          "evalue": "ignored",
          "traceback": [
            "\u001b[0;31m---------------------------------------------------------------------------\u001b[0m",
            "\u001b[0;31mNameError\u001b[0m                                 Traceback (most recent call last)",
            "\u001b[0;32m<ipython-input-1-5312bc369cbd>\u001b[0m in \u001b[0;36m<module>\u001b[0;34m()\u001b[0m\n\u001b[1;32m      1\u001b[0m \u001b[0;31m# Data loading and preprocessing\u001b[0m\u001b[0;34m\u001b[0m\u001b[0;34m\u001b[0m\u001b[0;34m\u001b[0m\u001b[0m\n\u001b[0;32m----> 2\u001b[0;31m \u001b[0mhousing_df\u001b[0m \u001b[0;34m=\u001b[0m \u001b[0mpd\u001b[0m\u001b[0;34m.\u001b[0m\u001b[0mread_csv\u001b[0m\u001b[0;34m(\u001b[0m\u001b[0;34m'WestRoxbury.csv'\u001b[0m\u001b[0;34m)\u001b[0m\u001b[0;34m\u001b[0m\u001b[0;34m\u001b[0m\u001b[0m\n\u001b[0m\u001b[1;32m      3\u001b[0m \u001b[0mhousing_df\u001b[0m\u001b[0;34m.\u001b[0m\u001b[0mcolumns\u001b[0m \u001b[0;34m=\u001b[0m \u001b[0;34m[\u001b[0m\u001b[0ms\u001b[0m\u001b[0;34m.\u001b[0m\u001b[0mstrip\u001b[0m\u001b[0;34m(\u001b[0m\u001b[0;34m)\u001b[0m\u001b[0;34m.\u001b[0m\u001b[0mreplace\u001b[0m\u001b[0;34m(\u001b[0m\u001b[0;34m' '\u001b[0m\u001b[0;34m,\u001b[0m \u001b[0;34m'_'\u001b[0m\u001b[0;34m)\u001b[0m \u001b[0;32mfor\u001b[0m \u001b[0ms\u001b[0m \u001b[0;32min\u001b[0m \u001b[0mhousing_df\u001b[0m\u001b[0;34m.\u001b[0m\u001b[0mcolumns\u001b[0m\u001b[0;34m]\u001b[0m\u001b[0;34m\u001b[0m\u001b[0;34m\u001b[0m\u001b[0m\n\u001b[1;32m      4\u001b[0m \u001b[0mhousing_df\u001b[0m \u001b[0;34m=\u001b[0m \u001b[0mpd\u001b[0m\u001b[0;34m.\u001b[0m\u001b[0mget_dummies\u001b[0m\u001b[0;34m(\u001b[0m\u001b[0mhousing_df\u001b[0m\u001b[0;34m,\u001b[0m \u001b[0mprefix_sep\u001b[0m\u001b[0;34m=\u001b[0m\u001b[0;34m'_'\u001b[0m\u001b[0;34m,\u001b[0m \u001b[0mdrop_first\u001b[0m\u001b[0;34m=\u001b[0m\u001b[0;32mTrue\u001b[0m\u001b[0;34m)\u001b[0m\u001b[0;34m\u001b[0m\u001b[0;34m\u001b[0m\u001b[0m\n\u001b[1;32m      5\u001b[0m \u001b[0;34m\u001b[0m\u001b[0m\n",
            "\u001b[0;31mNameError\u001b[0m: name 'pd' is not defined"
          ]
        }
      ]
    },
    {
      "cell_type": "code",
      "metadata": {
        "id": "e1ENgqYTJxRg",
        "outputId": "ffc0c9db-8174-4132-8842-2ce503001731",
        "colab": {
          "base_uri": "https://localhost:8080/",
          "height": 234
        }
      },
      "source": [
        "plt.plot(train_results.TOTAL_VALUE, train_results.predicted, '.')\n",
        "plt.xlabel('actual')  # set x-axis label\n",
        "plt.ylabel('predicted')  # set y-axis label\n",
        "axes = plt.gca()\n",
        "plt.plot(axes.get_xlim(), axes.get_xlim(), '--')\n",
        "plt.show()"
      ],
      "execution_count": null,
      "outputs": [
        {
          "output_type": "error",
          "ename": "NameError",
          "evalue": "ignored",
          "traceback": [
            "\u001b[0;31m---------------------------------------------------------------------------\u001b[0m",
            "\u001b[0;31mNameError\u001b[0m                                 Traceback (most recent call last)",
            "\u001b[0;32m<ipython-input-2-12e259af30a9>\u001b[0m in \u001b[0;36m<module>\u001b[0;34m()\u001b[0m\n\u001b[0;32m----> 1\u001b[0;31m \u001b[0mplt\u001b[0m\u001b[0;34m.\u001b[0m\u001b[0mplot\u001b[0m\u001b[0;34m(\u001b[0m\u001b[0mtrain_results\u001b[0m\u001b[0;34m.\u001b[0m\u001b[0mTOTAL_VALUE\u001b[0m\u001b[0;34m,\u001b[0m \u001b[0mtrain_results\u001b[0m\u001b[0;34m.\u001b[0m\u001b[0mpredicted\u001b[0m\u001b[0;34m,\u001b[0m \u001b[0;34m'.'\u001b[0m\u001b[0;34m)\u001b[0m\u001b[0;34m\u001b[0m\u001b[0;34m\u001b[0m\u001b[0m\n\u001b[0m\u001b[1;32m      2\u001b[0m \u001b[0mplt\u001b[0m\u001b[0;34m.\u001b[0m\u001b[0mxlabel\u001b[0m\u001b[0;34m(\u001b[0m\u001b[0;34m'actual'\u001b[0m\u001b[0;34m)\u001b[0m  \u001b[0;31m# set x-axis label\u001b[0m\u001b[0;34m\u001b[0m\u001b[0;34m\u001b[0m\u001b[0m\n\u001b[1;32m      3\u001b[0m \u001b[0mplt\u001b[0m\u001b[0;34m.\u001b[0m\u001b[0mylabel\u001b[0m\u001b[0;34m(\u001b[0m\u001b[0;34m'predicted'\u001b[0m\u001b[0;34m)\u001b[0m  \u001b[0;31m# set y-axis label\u001b[0m\u001b[0;34m\u001b[0m\u001b[0;34m\u001b[0m\u001b[0m\n\u001b[1;32m      4\u001b[0m \u001b[0maxes\u001b[0m \u001b[0;34m=\u001b[0m \u001b[0mplt\u001b[0m\u001b[0;34m.\u001b[0m\u001b[0mgca\u001b[0m\u001b[0;34m(\u001b[0m\u001b[0;34m)\u001b[0m\u001b[0;34m\u001b[0m\u001b[0;34m\u001b[0m\u001b[0m\n\u001b[1;32m      5\u001b[0m \u001b[0mplt\u001b[0m\u001b[0;34m.\u001b[0m\u001b[0mplot\u001b[0m\u001b[0;34m(\u001b[0m\u001b[0maxes\u001b[0m\u001b[0;34m.\u001b[0m\u001b[0mget_xlim\u001b[0m\u001b[0;34m(\u001b[0m\u001b[0;34m)\u001b[0m\u001b[0;34m,\u001b[0m \u001b[0maxes\u001b[0m\u001b[0;34m.\u001b[0m\u001b[0mget_xlim\u001b[0m\u001b[0;34m(\u001b[0m\u001b[0;34m)\u001b[0m\u001b[0;34m,\u001b[0m \u001b[0;34m'--'\u001b[0m\u001b[0;34m)\u001b[0m\u001b[0;34m\u001b[0m\u001b[0;34m\u001b[0m\u001b[0m\n",
            "\u001b[0;31mNameError\u001b[0m: name 'plt' is not defined"
          ]
        }
      ]
    },
    {
      "cell_type": "markdown",
      "metadata": {
        "id": "HJlXBR1BJxRj"
      },
      "source": [
        "Predict the validation data"
      ]
    },
    {
      "cell_type": "code",
      "metadata": {
        "id": "xpOH2TnIJxRk"
      },
      "source": [
        "valid_pred = model.predict(valid_X)\n",
        "valid_results = pd.DataFrame({\n",
        "    'TOTAL_VALUE': valid_y, \n",
        "    'predicted': valid_pred, \n",
        "    'residual': valid_y - valid_pred\n",
        "})\n",
        "print(valid_results.head())"
      ],
      "execution_count": null,
      "outputs": []
    },
    {
      "cell_type": "code",
      "metadata": {
        "id": "3wECujLhJxRn"
      },
      "source": [
        "plt.plot(valid_results.TOTAL_VALUE, valid_results.predicted, '.')\n",
        "plt.xlabel('actual')  # set x-axis label\n",
        "plt.ylabel('predicted')  # set y-axis label\n",
        "axes = plt.gca()\n",
        "plt.plot(axes.get_xlim(), axes.get_xlim(), '--')\n",
        "plt.show()"
      ],
      "execution_count": null,
      "outputs": []
    },
    {
      "cell_type": "markdown",
      "metadata": {
        "id": "SyIwm881JxRq"
      },
      "source": [
        "### Table 2.14\n",
        "We can use the metrics that scikit-learn provides."
      ]
    },
    {
      "cell_type": "code",
      "metadata": {
        "id": "6HZlrS_MJxRr"
      },
      "source": [
        "print('Training set r2: ', r2_score(train_results.TOTAL_VALUE, train_results.predicted))\n",
        "print('Validation set r2: ', r2_score(valid_results.TOTAL_VALUE, valid_results.predicted))"
      ],
      "execution_count": null,
      "outputs": []
    },
    {
      "cell_type": "code",
      "metadata": {
        "id": "lKBnD5dfJxRu"
      },
      "source": [
        "# import the utility function regressionSummary\n",
        "from dmba import regressionSummary\n",
        "\n",
        "# training set\n",
        "regressionSummary(train_results.TOTAL_VALUE, train_results.predicted)\n",
        "\n",
        "# validation set\n",
        "regressionSummary(valid_results.TOTAL_VALUE, valid_results.predicted)"
      ],
      "execution_count": null,
      "outputs": []
    },
    {
      "cell_type": "markdown",
      "metadata": {
        "id": "Thjd66_7JxRx"
      },
      "source": [
        "### Table 2.15"
      ]
    },
    {
      "cell_type": "code",
      "metadata": {
        "id": "SnBC5bPtJxRy"
      },
      "source": [
        "new_data = pd.DataFrame({\n",
        "    'LOT_SQFT': [4200, 6444, 5035],\n",
        "    'YR_BUILT': [1960, 1940, 1925],\n",
        "    'GROSS_AREA': [2670, 2886, 3264],\n",
        "    'LIVING_AREA': [1710, 1474, 1523],\n",
        "    'FLOORS': [2.0, 1.5, 1.9],\n",
        "    'ROOMS': [10, 6, 6],\n",
        "    'BEDROOMS': [4, 3, 2],\n",
        "    'FULL_BATH': [1, 1, 1],\n",
        "    'HALF_BATH': [1, 1, 0],\n",
        "    'KITCHEN': [1, 1, 1],\n",
        "    'FIREPLACE': [1, 1, 0],\n",
        "    'REMODEL_Old': [0, 0, 0],\n",
        "    'REMODEL_Recent': [0, 0, 1],\n",
        "})\n",
        "print(new_data)\n",
        "\n",
        "print('Predictions: ', model.predict(new_data))"
      ],
      "execution_count": null,
      "outputs": []
    },
    {
      "cell_type": "markdown",
      "metadata": {
        "id": "vZWuvH-_JxR1"
      },
      "source": [
        "## Figure 2.2 and 2.3"
      ]
    },
    {
      "cell_type": "code",
      "metadata": {
        "id": "uHEAqLjJJxR2",
        "outputId": "5bc43c2d-7826-4635-d13a-727b16710c01"
      },
      "source": [
        "df = pd.DataFrame({'Expenditure': [239, 364,602, 644, 770, 789, 911], \n",
        "                   'Revenue': [514, 789, 550, 1386, 1394, 1440, 1354]})\n",
        "df"
      ],
      "execution_count": null,
      "outputs": [
        {
          "output_type": "execute_result",
          "data": {
            "text/html": [
              "<div>\n",
              "<style scoped>\n",
              "    .dataframe tbody tr th:only-of-type {\n",
              "        vertical-align: middle;\n",
              "    }\n",
              "\n",
              "    .dataframe tbody tr th {\n",
              "        vertical-align: top;\n",
              "    }\n",
              "\n",
              "    .dataframe thead th {\n",
              "        text-align: right;\n",
              "    }\n",
              "</style>\n",
              "<table border=\"1\" class=\"dataframe\">\n",
              "  <thead>\n",
              "    <tr style=\"text-align: right;\">\n",
              "      <th></th>\n",
              "      <th>Expenditure</th>\n",
              "      <th>Revenue</th>\n",
              "    </tr>\n",
              "  </thead>\n",
              "  <tbody>\n",
              "    <tr>\n",
              "      <th>0</th>\n",
              "      <td>239</td>\n",
              "      <td>514</td>\n",
              "    </tr>\n",
              "    <tr>\n",
              "      <th>1</th>\n",
              "      <td>364</td>\n",
              "      <td>789</td>\n",
              "    </tr>\n",
              "    <tr>\n",
              "      <th>2</th>\n",
              "      <td>602</td>\n",
              "      <td>550</td>\n",
              "    </tr>\n",
              "    <tr>\n",
              "      <th>3</th>\n",
              "      <td>644</td>\n",
              "      <td>1386</td>\n",
              "    </tr>\n",
              "    <tr>\n",
              "      <th>4</th>\n",
              "      <td>770</td>\n",
              "      <td>1394</td>\n",
              "    </tr>\n",
              "    <tr>\n",
              "      <th>5</th>\n",
              "      <td>789</td>\n",
              "      <td>1440</td>\n",
              "    </tr>\n",
              "    <tr>\n",
              "      <th>6</th>\n",
              "      <td>911</td>\n",
              "      <td>1354</td>\n",
              "    </tr>\n",
              "  </tbody>\n",
              "</table>\n",
              "</div>"
            ],
            "text/plain": [
              "   Expenditure  Revenue\n",
              "0          239      514\n",
              "1          364      789\n",
              "2          602      550\n",
              "3          644     1386\n",
              "4          770     1394\n",
              "5          789     1440\n",
              "6          911     1354"
            ]
          },
          "metadata": {
            "tags": []
          },
          "execution_count": 41
        }
      ]
    },
    {
      "cell_type": "code",
      "metadata": {
        "id": "IzFxk__vJxR3",
        "outputId": "898b33fe-e1a0-474b-cb42-762220d2b4f6"
      },
      "source": [
        "df.plot.scatter(x='Expenditure', y='Revenue', xlim=(0, 1000), ylim=(0, 1600), figsize=(5, 3.5))\n",
        "plt.tight_layout()  # Increase the separation between the plots\n",
        "plt.show()"
      ],
      "execution_count": null,
      "outputs": [
        {
          "output_type": "display_data",
          "data": {
            "image/png": "[encoded data removed]",
            "text/plain": [
              "<Figure size 360x252 with 1 Axes>"
            ]
          },
          "metadata": {
            "tags": [],
            "needs_background": "light"
          }
        }
      ]
    },
    {
      "cell_type": "code",
      "metadata": {
        "id": "ULR-qMqXJxR5"
      },
      "source": [
        "x = list(df.Expenditure)\n",
        "y = list(df.Revenue)\n",
        "\n",
        "from scipy import interpolate\n",
        "f = interpolate.PchipInterpolator(x, y)\n",
        "\n",
        "x_new = np.linspace(x[0], x[-1], 100)\n",
        "y_new = [f(xi) for xi in x_new]"
      ],
      "execution_count": null,
      "outputs": []
    },
    {
      "cell_type": "code",
      "metadata": {
        "scrolled": true,
        "id": "DvKzLdgOJxR7",
        "outputId": "75ad0d83-7dbe-4536-9de9-d62c81795eec"
      },
      "source": [
        "df.plot.scatter(x='Expenditure', y='Revenue', xlim=(0, 1000), ylim=(0, 1600), figsize=(5, 3.5))\n",
        "plt.plot(x_new, y_new)\n",
        "plt.tight_layout()  # Increase the separation between the plots\n",
        "plt.show()"
      ],
      "execution_count": null,
      "outputs": [
        {
          "output_type": "display_data",
          "data": {
            "image/png": "[encoded data removed]",
            "text/plain": [
              "<Figure size 360x252 with 1 Axes>"
            ]
          },
          "metadata": {
            "tags": [],
            "needs_background": "light"
          }
        }
      ]
    }
  ]
}