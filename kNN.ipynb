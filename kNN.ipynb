{
  "nbformat": 4,
  "nbformat_minor": 0,
  "metadata": {
    "kernelspec": {
      "display_name": "Python 3",
      "language": "python",
      "name": "python3"
    },
    "language_info": {
      "codemirror_mode": {
        "name": "ipython",
        "version": 3
      },
      "file_extension": ".py",
      "mimetype": "text/x-python",
      "name": "python",
      "nbconvert_exporter": "python",
      "pygments_lexer": "ipython3",
      "version": "3.7.1"
    },
    "colab": {
      "name": "kNN.ipynb",
      "provenance": [],
      "collapsed_sections": [],
      "include_colab_link": true
    }
  },
  "cells": [
    {
      "cell_type": "markdown",
      "metadata": {
        "id": "view-in-github",
        "colab_type": "text"
      },
      "source": [
        "<a href=\"https://colab.research.google.com/github/KSU-MSBA/64060/blob/master/kNN.ipynb\" target=\"_parent\"><img src=\"https://colab.research.google.com/assets/colab-badge.svg\" alt=\"Open In Colab\"/></a>"
      ]
    },
    {
      "cell_type": "markdown",
      "metadata": {
        "id": "GC5f8v0o2rNo"
      },
      "source": [
        "# Chapter 7: k-Nearest Neighbors (kNN)\n",
        "\n",
        "> (c) 2019 Galit Shmueli, Peter C. Bruce, Peter Gedeck \n",
        ">\n",
        "> Modified from Code included in\n",
        ">\n",
        "> _Data Mining for Business Analytics: Concepts, Techniques, and Applications in Python_ (First Edition) \n",
        "> Galit Shmueli, Peter C. Bruce, Peter Gedeck, and Nitin R. Patel. 2019.\n",
        "\n",
        "## Import required packages"
      ]
    },
    {
      "cell_type": "code",
      "metadata": {
        "id": "qb1VtzzV2rNq"
      },
      "source": [
        "%matplotlib inline\n",
        "\n",
        "from pathlib import Path\n",
        "\n",
        "import pandas as pd\n",
        "from sklearn import preprocessing\n",
        "from sklearn.model_selection import train_test_split\n",
        "from sklearn.metrics import accuracy_score\n",
        "from sklearn.neighbors import NearestNeighbors, KNeighborsClassifier\n",
        "import matplotlib.pylab as plt\n",
        "\n"
      ],
      "execution_count": null,
      "outputs": []
    },
    {
      "cell_type": "markdown",
      "metadata": {
        "id": "vd3Jzylu6G49"
      },
      "source": [
        "# Import Data"
      ]
    },
    {
      "cell_type": "code",
      "metadata": {
        "id": "AqBt0wVU7Xe_",
        "outputId": "b4ad3e86-6e20-4e15-981a-8ca634172bc1",
        "colab": {
          "base_uri": "https://localhost:8080/",
          "height": 300
        }
      },
      "source": [
        "carseats_df = pd.read_csv('https://raw.githubusercontent.com/KSU-MSBA/64060/master/carseats.csv',sep='\\t')\n",
        "carseats_df['Number']= carseats_df.index + 1\n",
        "carseats_df.head(10)\n",
        "carseats_df.describe()"
      ],
      "execution_count": null,
      "outputs": [
        {
          "output_type": "execute_result",
          "data": {
            "text/html": [
              "<div>\n",
              "<style scoped>\n",
              "    .dataframe tbody tr th:only-of-type {\n",
              "        vertical-align: middle;\n",
              "    }\n",
              "\n",
              "    .dataframe tbody tr th {\n",
              "        vertical-align: top;\n",
              "    }\n",
              "\n",
              "    .dataframe thead th {\n",
              "        text-align: right;\n",
              "    }\n",
              "</style>\n",
              "<table border=\"1\" class=\"dataframe\">\n",
              "  <thead>\n",
              "    <tr style=\"text-align: right;\">\n",
              "      <th></th>\n",
              "      <th>Sales</th>\n",
              "      <th>CompPrice</th>\n",
              "      <th>Income</th>\n",
              "      <th>Advertising</th>\n",
              "      <th>Population</th>\n",
              "      <th>Price</th>\n",
              "      <th>Age</th>\n",
              "      <th>Education</th>\n",
              "      <th>Number</th>\n",
              "    </tr>\n",
              "  </thead>\n",
              "  <tbody>\n",
              "    <tr>\n",
              "      <th>count</th>\n",
              "      <td>400.000000</td>\n",
              "      <td>400.000000</td>\n",
              "      <td>400.000000</td>\n",
              "      <td>400.000000</td>\n",
              "      <td>400.000000</td>\n",
              "      <td>400.000000</td>\n",
              "      <td>400.000000</td>\n",
              "      <td>400.000000</td>\n",
              "      <td>400.000000</td>\n",
              "    </tr>\n",
              "    <tr>\n",
              "      <th>mean</th>\n",
              "      <td>7.496325</td>\n",
              "      <td>124.975000</td>\n",
              "      <td>68.657500</td>\n",
              "      <td>6.635000</td>\n",
              "      <td>264.840000</td>\n",
              "      <td>115.795000</td>\n",
              "      <td>53.322500</td>\n",
              "      <td>13.900000</td>\n",
              "      <td>200.500000</td>\n",
              "    </tr>\n",
              "    <tr>\n",
              "      <th>std</th>\n",
              "      <td>2.824115</td>\n",
              "      <td>15.334512</td>\n",
              "      <td>27.986037</td>\n",
              "      <td>6.650364</td>\n",
              "      <td>147.376436</td>\n",
              "      <td>23.676664</td>\n",
              "      <td>16.200297</td>\n",
              "      <td>2.620528</td>\n",
              "      <td>115.614301</td>\n",
              "    </tr>\n",
              "    <tr>\n",
              "      <th>min</th>\n",
              "      <td>0.000000</td>\n",
              "      <td>77.000000</td>\n",
              "      <td>21.000000</td>\n",
              "      <td>0.000000</td>\n",
              "      <td>10.000000</td>\n",
              "      <td>24.000000</td>\n",
              "      <td>25.000000</td>\n",
              "      <td>10.000000</td>\n",
              "      <td>1.000000</td>\n",
              "    </tr>\n",
              "    <tr>\n",
              "      <th>25%</th>\n",
              "      <td>5.390000</td>\n",
              "      <td>115.000000</td>\n",
              "      <td>42.750000</td>\n",
              "      <td>0.000000</td>\n",
              "      <td>139.000000</td>\n",
              "      <td>100.000000</td>\n",
              "      <td>39.750000</td>\n",
              "      <td>12.000000</td>\n",
              "      <td>100.750000</td>\n",
              "    </tr>\n",
              "    <tr>\n",
              "      <th>50%</th>\n",
              "      <td>7.490000</td>\n",
              "      <td>125.000000</td>\n",
              "      <td>69.000000</td>\n",
              "      <td>5.000000</td>\n",
              "      <td>272.000000</td>\n",
              "      <td>117.000000</td>\n",
              "      <td>54.500000</td>\n",
              "      <td>14.000000</td>\n",
              "      <td>200.500000</td>\n",
              "    </tr>\n",
              "    <tr>\n",
              "      <th>75%</th>\n",
              "      <td>9.320000</td>\n",
              "      <td>135.000000</td>\n",
              "      <td>91.000000</td>\n",
              "      <td>12.000000</td>\n",
              "      <td>398.500000</td>\n",
              "      <td>131.000000</td>\n",
              "      <td>66.000000</td>\n",
              "      <td>16.000000</td>\n",
              "      <td>300.250000</td>\n",
              "    </tr>\n",
              "    <tr>\n",
              "      <th>max</th>\n",
              "      <td>16.270000</td>\n",
              "      <td>175.000000</td>\n",
              "      <td>120.000000</td>\n",
              "      <td>29.000000</td>\n",
              "      <td>509.000000</td>\n",
              "      <td>191.000000</td>\n",
              "      <td>80.000000</td>\n",
              "      <td>18.000000</td>\n",
              "      <td>400.000000</td>\n",
              "    </tr>\n",
              "  </tbody>\n",
              "</table>\n",
              "</div>"
            ],
            "text/plain": [
              "            Sales   CompPrice      Income  ...         Age   Education      Number\n",
              "count  400.000000  400.000000  400.000000  ...  400.000000  400.000000  400.000000\n",
              "mean     7.496325  124.975000   68.657500  ...   53.322500   13.900000  200.500000\n",
              "std      2.824115   15.334512   27.986037  ...   16.200297    2.620528  115.614301\n",
              "min      0.000000   77.000000   21.000000  ...   25.000000   10.000000    1.000000\n",
              "25%      5.390000  115.000000   42.750000  ...   39.750000   12.000000  100.750000\n",
              "50%      7.490000  125.000000   69.000000  ...   54.500000   14.000000  200.500000\n",
              "75%      9.320000  135.000000   91.000000  ...   66.000000   16.000000  300.250000\n",
              "max     16.270000  175.000000  120.000000  ...   80.000000   18.000000  400.000000\n",
              "\n",
              "[8 rows x 9 columns]"
            ]
          },
          "metadata": {
            "tags": []
          },
          "execution_count": 3
        }
      ]
    },
    {
      "cell_type": "markdown",
      "metadata": {
        "id": "ZSssdjF-8xCs"
      },
      "source": [
        "## Partition the Data\n",
        "Assume that we are interested in creating a training and validation set from this dataset. To simplify our illustration, we will restrict ourself to the following three variables: Sales, Education, Urban, and use only a small dataset for illustration\n",
        "\n",
        "* First, we create a dataset with only the required columns. \n",
        "* Then, we use the *train_test_split* function from the *sklearn* library to create our training, validation and test sets \n"
      ]
    },
    {
      "cell_type": "code",
      "metadata": {
        "id": "ytQwdCea9bo0",
        "outputId": "23ed3bbe-1007-415e-c371-9dbd3a197650",
        "colab": {
          "base_uri": "https://localhost:8080/",
          "height": 206
        }
      },
      "source": [
        "m_carseats_df = carseats_df[['Sales','Age','Urban','Number']]\n",
        "m_carseats_df.head()"
      ],
      "execution_count": null,
      "outputs": [
        {
          "output_type": "execute_result",
          "data": {
            "text/html": [
              "<div>\n",
              "<style scoped>\n",
              "    .dataframe tbody tr th:only-of-type {\n",
              "        vertical-align: middle;\n",
              "    }\n",
              "\n",
              "    .dataframe tbody tr th {\n",
              "        vertical-align: top;\n",
              "    }\n",
              "\n",
              "    .dataframe thead th {\n",
              "        text-align: right;\n",
              "    }\n",
              "</style>\n",
              "<table border=\"1\" class=\"dataframe\">\n",
              "  <thead>\n",
              "    <tr style=\"text-align: right;\">\n",
              "      <th></th>\n",
              "      <th>Sales</th>\n",
              "      <th>Age</th>\n",
              "      <th>Urban</th>\n",
              "      <th>Number</th>\n",
              "    </tr>\n",
              "  </thead>\n",
              "  <tbody>\n",
              "    <tr>\n",
              "      <th>0</th>\n",
              "      <td>9.50</td>\n",
              "      <td>42</td>\n",
              "      <td>Yes</td>\n",
              "      <td>1</td>\n",
              "    </tr>\n",
              "    <tr>\n",
              "      <th>1</th>\n",
              "      <td>11.22</td>\n",
              "      <td>65</td>\n",
              "      <td>Yes</td>\n",
              "      <td>2</td>\n",
              "    </tr>\n",
              "    <tr>\n",
              "      <th>2</th>\n",
              "      <td>10.06</td>\n",
              "      <td>59</td>\n",
              "      <td>Yes</td>\n",
              "      <td>3</td>\n",
              "    </tr>\n",
              "    <tr>\n",
              "      <th>3</th>\n",
              "      <td>7.40</td>\n",
              "      <td>55</td>\n",
              "      <td>Yes</td>\n",
              "      <td>4</td>\n",
              "    </tr>\n",
              "    <tr>\n",
              "      <th>4</th>\n",
              "      <td>4.15</td>\n",
              "      <td>38</td>\n",
              "      <td>Yes</td>\n",
              "      <td>5</td>\n",
              "    </tr>\n",
              "  </tbody>\n",
              "</table>\n",
              "</div>"
            ],
            "text/plain": [
              "   Sales  Age Urban  Number\n",
              "0   9.50   42   Yes       1\n",
              "1  11.22   65   Yes       2\n",
              "2  10.06   59   Yes       3\n",
              "3   7.40   55   Yes       4\n",
              "4   4.15   38   Yes       5"
            ]
          },
          "metadata": {
            "tags": []
          },
          "execution_count": 4
        }
      ]
    },
    {
      "cell_type": "code",
      "metadata": {
        "id": "AtzD2ihMENKb",
        "outputId": "cb792648-b452-4e6c-cf6d-e89d4c1a4a19",
        "colab": {
          "base_uri": "https://localhost:8080/",
          "height": 318
        }
      },
      "source": [
        "tempData, testData = train_test_split(carseats_df, test_size=0.2, random_state=26)\n",
        "trainData, validData = train_test_split(tempData,test_size=0.25,random_state=15)\n",
        "print(trainData.shape, validData.shape, testData.shape)\n",
        "trainData[['Sales','Age']].describe()"
      ],
      "execution_count": null,
      "outputs": [
        {
          "output_type": "stream",
          "text": [
            "(240, 12) (80, 12) (80, 12)\n"
          ],
          "name": "stdout"
        },
        {
          "output_type": "execute_result",
          "data": {
            "text/html": [
              "<div>\n",
              "<style scoped>\n",
              "    .dataframe tbody tr th:only-of-type {\n",
              "        vertical-align: middle;\n",
              "    }\n",
              "\n",
              "    .dataframe tbody tr th {\n",
              "        vertical-align: top;\n",
              "    }\n",
              "\n",
              "    .dataframe thead th {\n",
              "        text-align: right;\n",
              "    }\n",
              "</style>\n",
              "<table border=\"1\" class=\"dataframe\">\n",
              "  <thead>\n",
              "    <tr style=\"text-align: right;\">\n",
              "      <th></th>\n",
              "      <th>Sales</th>\n",
              "      <th>Age</th>\n",
              "    </tr>\n",
              "  </thead>\n",
              "  <tbody>\n",
              "    <tr>\n",
              "      <th>count</th>\n",
              "      <td>240.00000</td>\n",
              "      <td>240.000000</td>\n",
              "    </tr>\n",
              "    <tr>\n",
              "      <th>mean</th>\n",
              "      <td>7.66150</td>\n",
              "      <td>52.195833</td>\n",
              "    </tr>\n",
              "    <tr>\n",
              "      <th>std</th>\n",
              "      <td>2.92752</td>\n",
              "      <td>16.060528</td>\n",
              "    </tr>\n",
              "    <tr>\n",
              "      <th>min</th>\n",
              "      <td>0.16000</td>\n",
              "      <td>25.000000</td>\n",
              "    </tr>\n",
              "    <tr>\n",
              "      <th>25%</th>\n",
              "      <td>5.68000</td>\n",
              "      <td>39.000000</td>\n",
              "    </tr>\n",
              "    <tr>\n",
              "      <th>50%</th>\n",
              "      <td>7.62500</td>\n",
              "      <td>53.000000</td>\n",
              "    </tr>\n",
              "    <tr>\n",
              "      <th>75%</th>\n",
              "      <td>9.42000</td>\n",
              "      <td>64.000000</td>\n",
              "    </tr>\n",
              "    <tr>\n",
              "      <th>max</th>\n",
              "      <td>16.27000</td>\n",
              "      <td>80.000000</td>\n",
              "    </tr>\n",
              "  </tbody>\n",
              "</table>\n",
              "</div>"
            ],
            "text/plain": [
              "           Sales         Age\n",
              "count  240.00000  240.000000\n",
              "mean     7.66150   52.195833\n",
              "std      2.92752   16.060528\n",
              "min      0.16000   25.000000\n",
              "25%      5.68000   39.000000\n",
              "50%      7.62500   53.000000\n",
              "75%      9.42000   64.000000\n",
              "max     16.27000   80.000000"
            ]
          },
          "metadata": {
            "tags": []
          },
          "execution_count": 5
        }
      ]
    },
    {
      "cell_type": "markdown",
      "metadata": {
        "id": "jloFCf8DGhCs"
      },
      "source": [
        "## Plotting\n",
        "Let us now plot the data"
      ]
    },
    {
      "cell_type": "code",
      "metadata": {
        "id": "czhRETwhGl2j",
        "outputId": "6ea86146-dcd7-4e90-e756-cf2ae7fa6986",
        "colab": {
          "base_uri": "https://localhost:8080/",
          "height": 279
        }
      },
      "source": [
        "fig, ax = plt.subplots()\n",
        "\n",
        "subset = trainData.loc[trainData['Urban']=='Yes']\n",
        "ax.scatter(subset.Age, subset.Sales, marker='o', label='Urban', color='C1')\n",
        "\n",
        "subset = trainData.loc[trainData['Urban']=='No']\n",
        "ax.scatter(subset.Age, subset.Sales, marker='D', label='Not Urban', color='C0')\n",
        "\n",
        "plt.xlabel('Age')  # set x-axis label\n",
        "plt.ylabel('Sales')  # set y-axis label\n",
        "    \n",
        "handles, labels = ax.get_legend_handles_labels()\n",
        "ax.set_xlim(40, 115)\n",
        "ax.legend(handles, labels, loc=4)\n",
        "\n",
        "plt.show()"
      ],
      "execution_count": null,
      "outputs": [
        {
          "output_type": "display_data",
          "data": {
            "image/png": "[encoded data removed]",
            "text/plain": [
              "<Figure size 432x288 with 1 Axes>"
            ]
          },
          "metadata": {
            "tags": [],
            "needs_background": "light"
          }
        }
      ]
    },
    {
      "cell_type": "markdown",
      "metadata": {
        "id": "1pDjHSqK2rN_"
      },
      "source": [
        "## Table 7.2\n",
        "Initialize normalized training, validation, and complete data frames. Use the training data to learn the transformation."
      ]
    },
    {
      "cell_type": "code",
      "metadata": {
        "id": "5D-HHCh32rOA",
        "outputId": "12dfb875-2610-4d58-ed89-cba8505b135d",
        "colab": {
          "base_uri": "https://localhost:8080/",
          "height": 486
        }
      },
      "source": [
        "scaler = preprocessing.StandardScaler()\n",
        "\n",
        "# We only use the training data to get the mean and SD for scaling\n",
        "scaler.fit(trainData[['Sales', 'Age']])  # Note the use of an array of column names\n",
        "\n",
        "# Transform the full dataset using the mean and SD that we computed from the training data\n",
        "# We only retain Sales, Age, Urban and Number in the standardized data\n",
        "\n",
        "carseatsNorm = pd.concat([pd.DataFrame(scaler.transform(carseats_df[['Sales', 'Age']]), \n",
        "                                    columns=['zSales', 'zAge']),\n",
        "                       carseats_df[['Urban', 'Number']]], axis=1)\n",
        "trainNorm = carseatsNorm.iloc[trainData.index]\n",
        "validNorm = carseatsNorm.iloc[validData.index]\n",
        "testNorm = carseatsNorm.iloc[testData.index]\n",
        "print(trainNorm.describe(),'\\n',validNorm.describe(),'\\n',testNorm.describe())"
      ],
      "execution_count": null,
      "outputs": [
        {
          "output_type": "stream",
          "text": [
            "             zSales          zAge      Number\n",
            "count  2.400000e+02  2.400000e+02  240.000000\n",
            "mean  -1.091719e-16  1.110223e-17  203.775000\n",
            "std    1.002090e+00  1.002090e+00  113.308404\n",
            "min   -2.567763e+00 -1.696873e+00    1.000000\n",
            "25%   -6.782672e-01 -8.233484e-01  113.250000\n",
            "50%   -1.249395e-02  5.017564e-02  205.500000\n",
            "75%    6.019343e-01  7.365160e-01  300.250000\n",
            "max    2.946689e+00  1.734829e+00  400.000000 \n",
            "           zSales       zAge      Number\n",
            "count  80.000000  80.000000   80.000000\n",
            "mean   -0.137818   0.100871  189.000000\n",
            "std     0.946722   1.013359  124.238236\n",
            "min    -2.622531  -1.696873    2.000000\n",
            "25%    -0.808341  -0.698559   82.250000\n",
            "50%    -0.281199   0.174965  182.500000\n",
            "75%     0.405968   0.798911  280.750000\n",
            "max     1.820522   1.734829  396.000000 \n",
            "           zSales       zAge      Number\n",
            "count  80.000000  80.000000   80.000000\n",
            "mean   -0.144878   0.250618  202.175000\n",
            "std     0.872493   1.023068  114.298828\n",
            "min    -2.136465  -1.696873    6.000000\n",
            "25%    -0.787803  -0.324192  102.250000\n",
            "50%    -0.101492   0.299754  207.500000\n",
            "75%     0.437630   1.173278  302.250000\n",
            "max     2.015633   1.734829  391.000000\n"
          ],
          "name": "stdout"
        }
      ]
    },
    {
      "cell_type": "markdown",
      "metadata": {
        "id": "ZzjtX6Yj2rOD"
      },
      "source": [
        "Use k-nearest neighbour"
      ]
    },
    {
      "cell_type": "code",
      "metadata": {
        "id": "tDRLbq4o2rOD",
        "outputId": "4b86c699-b9b9-4b41-b556-8700f66ede07",
        "colab": {
          "base_uri": "https://localhost:8080/",
          "height": 143
        }
      },
      "source": [
        "knn = NearestNeighbors(n_neighbors=3)\n",
        "knn.fit(trainNorm[['zSales', 'zAge']])\n",
        "x = testNorm[['zSales','zAge']]\n",
        "distances, indices = knn.kneighbors(x.iloc[:1])\n",
        "# We now print out the closest neighbors of our first test sample record\n",
        "# Indices are a list of lists; we are only interested in the first element\n",
        "trainNorm.iloc[indices[0], :]"
      ],
      "execution_count": null,
      "outputs": [
        {
          "output_type": "execute_result",
          "data": {
            "text/html": [
              "<div>\n",
              "<style scoped>\n",
              "    .dataframe tbody tr th:only-of-type {\n",
              "        vertical-align: middle;\n",
              "    }\n",
              "\n",
              "    .dataframe tbody tr th {\n",
              "        vertical-align: top;\n",
              "    }\n",
              "\n",
              "    .dataframe thead th {\n",
              "        text-align: right;\n",
              "    }\n",
              "</style>\n",
              "<table border=\"1\" class=\"dataframe\">\n",
              "  <thead>\n",
              "    <tr style=\"text-align: right;\">\n",
              "      <th></th>\n",
              "      <th>zSales</th>\n",
              "      <th>zAge</th>\n",
              "      <th>Urban</th>\n",
              "      <th>Number</th>\n",
              "    </tr>\n",
              "  </thead>\n",
              "  <tbody>\n",
              "    <tr>\n",
              "      <th>109</th>\n",
              "      <td>0.451322</td>\n",
              "      <td>0.486938</td>\n",
              "      <td>No</td>\n",
              "      <td>110</td>\n",
              "    </tr>\n",
              "    <tr>\n",
              "      <th>107</th>\n",
              "      <td>0.304133</td>\n",
              "      <td>0.486938</td>\n",
              "      <td>Yes</td>\n",
              "      <td>108</td>\n",
              "    </tr>\n",
              "    <tr>\n",
              "      <th>63</th>\n",
              "      <td>0.276749</td>\n",
              "      <td>0.549332</td>\n",
              "      <td>Yes</td>\n",
              "      <td>64</td>\n",
              "    </tr>\n",
              "  </tbody>\n",
              "</table>\n",
              "</div>"
            ],
            "text/plain": [
              "       zSales      zAge Urban  Number\n",
              "109  0.451322  0.486938    No     110\n",
              "107  0.304133  0.486938   Yes     108\n",
              "63   0.276749  0.549332   Yes      64"
            ]
          },
          "metadata": {
            "tags": []
          },
          "execution_count": 8
        }
      ]
    },
    {
      "cell_type": "markdown",
      "metadata": {
        "id": "mqhnyJ7K2rOH"
      },
      "source": [
        "## Table 7.3\n",
        "Initialize a data frame with two columns: `k` and `accuracy`\n",
        "Use Validation data to choose `k`"
      ]
    },
    {
      "cell_type": "code",
      "metadata": {
        "id": "sMIF0LmD2rOI",
        "outputId": "cba9e823-65b0-4a97-9812-45735c14d11b",
        "colab": {
          "base_uri": "https://localhost:8080/",
          "height": 278
        }
      },
      "source": [
        "train_X = trainNorm[['zSales', 'zAge']]\n",
        "train_y = trainNorm['Urban']\n",
        "valid_X = validNorm[['zSales', 'zAge']]\n",
        "valid_y = validNorm['Urban']\n",
        "\n",
        "# Train a classifier for different values of k\n",
        "results = []\n",
        "for k in range(1, 15):\n",
        "    knn = KNeighborsClassifier(n_neighbors=k).fit(train_X, train_y)\n",
        "    results.append({\n",
        "        'k': k,\n",
        "        'accuracy': accuracy_score(valid_y, knn.predict(valid_X))\n",
        "    })\n",
        "\n",
        "# Convert results to a pandas data frame\n",
        "results = pd.DataFrame(results)\n",
        "print(results)"
      ],
      "execution_count": null,
      "outputs": [
        {
          "output_type": "stream",
          "text": [
            "     k  accuracy\n",
            "0    1    0.5875\n",
            "1    2    0.5250\n",
            "2    3    0.6125\n",
            "3    4    0.5250\n",
            "4    5    0.6125\n",
            "5    6    0.5125\n",
            "6    7    0.6250\n",
            "7    8    0.6000\n",
            "8    9    0.6625\n",
            "9   10    0.6625\n",
            "10  11    0.7125\n",
            "11  12    0.6625\n",
            "12  13    0.7250\n",
            "13  14    0.7125\n"
          ],
          "name": "stdout"
        }
      ]
    },
    {
      "cell_type": "markdown",
      "metadata": {
        "id": "Gext-lw92rOK"
      },
      "source": [
        "## Table 7.4"
      ]
    },
    {
      "cell_type": "code",
      "metadata": {
        "id": "h6cqX1152rOL",
        "outputId": "786211c7-9774-4161-8e32-bbcbb94fbd93",
        "colab": {
          "base_uri": "https://localhost:8080/",
          "height": 106
        }
      },
      "source": [
        "# Retrain with Training + Validation using k chosen above\n",
        "\n",
        "from sklearn.metrics import confusion_matrix\n",
        "\n",
        "carseats_X = pd.concat([trainNorm[['zSales','zAge']],validNorm[['zSales','zAge']]])\n",
        "carseats_y = pd.concat([trainNorm[['Urban']],validNorm[['Urban']]])\n",
        "\n",
        "\n",
        "testX = testNorm[['zSales','zAge']]\n",
        "testY = testNorm[['Urban']]\n",
        "predictY = []\n",
        "\n",
        "knn = KNeighborsClassifier(n_neighbors=11).fit(carseats_X, carseats_y)\n",
        "for i in range(testX.shape[0]):\n",
        "  distances, indices = knn.kneighbors(testX)\n",
        "  predictY.append(knn.predict(testX.iloc[i:i+1]))\n",
        "#  print('Test record: '+ str(i) + ': Urban is  ', knn.predict(testX.iloc[i:i+1]))\n",
        "confusion_matrix(testY,predictY)\n",
        "#print(testY,predictY)\n",
        "#print('Distances',distances)\n",
        "#print('Indices', indices)\n",
        "#print(carseatsNorm.iloc[indices[0], :])"
      ],
      "execution_count": null,
      "outputs": [
        {
          "output_type": "stream",
          "text": [
            "/usr/local/lib/python3.6/dist-packages/ipykernel_launcher.py:13: DataConversionWarning: A column-vector y was passed when a 1d array was expected. Please change the shape of y to (n_samples, ), for example using ravel().\n",
            "  del sys.path[0]\n"
          ],
          "name": "stderr"
        },
        {
          "output_type": "execute_result",
          "data": {
            "text/plain": [
              "array([[ 1, 27],\n",
              "       [ 2, 50]])"
            ]
          },
          "metadata": {
            "tags": []
          },
          "execution_count": 10
        }
      ]
    }
  ]
}